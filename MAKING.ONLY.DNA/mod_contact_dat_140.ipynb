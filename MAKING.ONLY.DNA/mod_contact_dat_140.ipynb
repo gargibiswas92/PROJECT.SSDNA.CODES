{
 "cells": [
  {
   "cell_type": "code",
   "execution_count": 12,
   "id": "812ed8a7-361a-457d-8381-3c733997def2",
   "metadata": {},
   "outputs": [
    {
     "name": "stdout",
     "output_type": "stream",
     "text": [
      "5 5\n"
     ]
    }
   ],
   "source": [
    "b1 = []\n",
    "b2 = []\n",
    "\n",
    "for jj in range(61, 48, -3):\n",
    "    b2.append(jj)\n",
    "for iii in range(4, 17, 3):\n",
    "    b1.append(iii)\n",
    "    \n",
    "print(len(b1), len(b2))"
   ]
  },
  {
   "cell_type": "code",
   "execution_count": 13,
   "id": "ff4d93cd-b86b-460d-9a7e-8c4d616fc03f",
   "metadata": {},
   "outputs": [
    {
     "name": "stdout",
     "output_type": "stream",
     "text": [
      "[4, 7, 10, 13, 16] [61, 58, 55, 52, 49]\n"
     ]
    }
   ],
   "source": [
    "print(b1,b2)"
   ]
  },
  {
   "cell_type": "code",
   "execution_count": 15,
   "id": "afbd9ece-5c63-4f26-9c31-cd005b53c7d5",
   "metadata": {},
   "outputs": [],
   "source": [
    "count = 0\n",
    "m = 1.00\n",
    "outp = open('cont_5_20.dat', 'w')\n",
    "outc = open('list_5m_20.dat', 'w')\n",
    "for k in range(len(b1)):\n",
    "    count = count + 1\n",
    "    b_d = 21.56\n",
    "    ss3 = '{:>5d}{:>5d}{:>5d}{:>10.3f}{:>9.6f}{}'.format(count, b1[k], b2[k], b_d, m, '\\n')\n",
    "    ssn = '{:>5d}{:>5d}{}'.format(b1[k], b2[k], '\\n')\n",
    "    outp.writelines(ss3)\n",
    "    outc.writelines(ssn)\n",
    "outp.close()\n",
    "outc.close()"
   ]
  },
  {
   "cell_type": "code",
   "execution_count": 16,
   "id": "9c573a8f-74b0-4e9c-9a6f-9dafedfced00",
   "metadata": {},
   "outputs": [],
   "source": [
    "inp1 = open('stacks.dat', 'r')\n",
    "out1 = open('stacks_mod20.dat', 'w')\n",
    "count = 0\n",
    "ab = []\n",
    "for i in range(62, 602, 1):\n",
    "    ab.append(i)\n",
    "\n",
    "for line in inp1:\n",
    "    a = line[5:10]\n",
    "    b = line[10:15]\n",
    "    c = line[15:-1]\n",
    "    flag = 0\n",
    "    for m in ab:\n",
    "        if int(a) == m or int(b) == m:\n",
    "            flag = 1\n",
    "    if flag == 0:\n",
    "        count = count + 1\n",
    "        ss = '{:>5d}{:>5d}{:>5d}{}{}'.format(count, int(a), int(b), c, '\\n')\n",
    "        out1.writelines(ss)\n",
    "out1.close()\n",
    "inp1.close()"
   ]
  },
  {
   "cell_type": "code",
   "execution_count": 21,
   "id": "54a051de-244d-446a-a838-72ae153fbbc9",
   "metadata": {},
   "outputs": [],
   "source": [
    "inp1 = open('bond.dat', 'r')\n",
    "out1 = open('bond_mod20.dat', 'w')\n",
    "count = 0\n",
    "ab = []\n",
    "for i in range(62, 602, 1):\n",
    "    ab.append(i)\n",
    "\n",
    "for line in inp1:\n",
    "    a = line[5:10]\n",
    "    b = line[10:15]\n",
    "    c = line[15:-1]\n",
    "    flag = 0\n",
    "    for m in ab:\n",
    "        if int(a) == m or int(b) == m:\n",
    "            flag = 1\n",
    "    if flag == 0:\n",
    "        count = count + 1\n",
    "        ss = '{:>5d}{:>5d}{:>5d}{}{}'.format(count, int(a), int(b), c, '\\n')\n",
    "        out1.writelines(ss)\n",
    "out1.close()\n",
    "inp1.close()"
   ]
  },
  {
   "cell_type": "code",
   "execution_count": 17,
   "id": "26b891c4-6b3c-4330-a1cd-ee1b598ab314",
   "metadata": {},
   "outputs": [],
   "source": [
    "inp1 = open('angle.dat', 'r')\n",
    "out1 = open('angle_mod20.dat', 'w')\n",
    "count = 0\n",
    "ab = []\n",
    "for i in range(62, 602, 1):\n",
    "    ab.append(i)\n",
    "\n",
    "for line in inp1:\n",
    "    a = line[5:10]\n",
    "    b = line[10:15]\n",
    "    b1 = line[15:20]\n",
    "    c = line[20:-1]\n",
    "    flag = 0\n",
    "    for m in ab:\n",
    "        if int(a) == m or int(b) == m or int(b1) == m:\n",
    "            flag = 1\n",
    "    if flag == 0:\n",
    "        count = count + 1\n",
    "        ss = '{:>5d}{:>5d}{:>5d}{:>5d}{}{}'.format(count, int(a), int(b), int(b1), c, '\\n')\n",
    "        out1.writelines(ss)\n",
    "out1.close()\n",
    "inp1.close()"
   ]
  },
  {
   "cell_type": "code",
   "execution_count": 18,
   "id": "bcba7179-ebcf-4d19-9ca6-6b851b9ce2c4",
   "metadata": {},
   "outputs": [],
   "source": [
    "inp1 = open('dihedral.dat', 'r')\n",
    "out1 = open('dihedral_mod20.dat', 'w')\n",
    "count = 0\n",
    "ab = []\n",
    "for i in range(62, 602, 1):\n",
    "    ab.append(i)\n",
    "\n",
    "for line in inp1:\n",
    "    a = line[5:10]\n",
    "    b = line[10:15]\n",
    "    b1 = line[15:20]\n",
    "    b2 = line[20:25]\n",
    "    c = line[25:-1]\n",
    "    flag = 0\n",
    "    for m in ab:\n",
    "        if int(a) == m or int(b) == m or int(b1) == m or int(b2) == m:\n",
    "            flag = 1\n",
    "    if flag == 0:\n",
    "        count = count + 1\n",
    "        ss = '{:>5d}{:>5d}{:>5d}{:>5d}{:>5d}{}{}'.format(count, int(a), int(b), int(b1), int(b2), c, '\\n')\n",
    "        out1.writelines(ss)\n",
    "out1.close()\n",
    "inp1.close()"
   ]
  },
  {
   "cell_type": "code",
   "execution_count": 19,
   "id": "c3af42d6-5c5e-4e3b-a2a4-7ef7c4eb4a08",
   "metadata": {},
   "outputs": [],
   "source": [
    "inp1 = open('dihedral_mod20.dat', 'r')\n",
    "out1 = open('dihedral_mod20_0.7.dat', 'w')\n",
    "for line in inp1:\n",
    "    a = line[0:33]\n",
    "    b = line[33:41]\n",
    "    c = line[41:-1]\n",
    "    m = 0.7\n",
    "    if float(b) == 0.0:\n",
    "        ss = '{}{:>8.3f}{}{}'.format(a, m, c, '\\n')\n",
    "        out1.writelines(ss)\n",
    "    else:\n",
    "        ssp = [line]\n",
    "        out1.writelines(ssp)\n",
    "inp1.close()\n",
    "out1.close()"
   ]
  },
  {
   "cell_type": "code",
   "execution_count": 20,
   "id": "62a05f30-1575-416b-8e5c-0c950d6c7656",
   "metadata": {},
   "outputs": [],
   "source": [
    "inp1 = open('list_5m_20.dat', 'r')\n",
    "inp2 = open('test2.dat', 'r')\n",
    "outs = open('rep_mod20.dat', 'w')\n",
    "con1 = []\n",
    "con2 = []\n",
    "ab = []\n",
    "con_rep = 0\n",
    "for line in inp1:\n",
    "    arr = line.split()\n",
    "    con1.append(int(arr[0]))\n",
    "    con2.append(int(arr[1]))\n",
    "for i in range(62, 602, 1):\n",
    "    ab.append(i)\n",
    "    \n",
    "for line2 in inp2:\n",
    "    a = line2[0:8]\n",
    "    b = line2[8:13]\n",
    "    c = line2[13:18]\n",
    "    d = line2[18:-1]\n",
    "    flag = 0\n",
    "    for i in range(len(con1)):\n",
    "        if int(b) == con1[i] and int(c) == con2[i]:\n",
    "            flag = 1\n",
    "    for m in ab:\n",
    "        if int(b) == m or int(c) == m:\n",
    "            flag = 2\n",
    "    if flag == 0:\n",
    "        con_rep = con_rep + 1\n",
    "        pp = line2[8:-1]\n",
    "        ss = '{:>8d}{}{}'.format(con_rep, pp, '\\n')\n",
    "        outs.writelines(ss)\n",
    "inp1.close()\n",
    "inp2.close()\n",
    "outs.close()"
   ]
  },
  {
   "cell_type": "code",
   "execution_count": null,
   "id": "5392e614-2896-485c-9cbf-4b68dc8e8891",
   "metadata": {},
   "outputs": [],
   "source": []
  }
 ],
 "metadata": {
  "kernelspec": {
   "display_name": "Python 3 (ipykernel)",
   "language": "python",
   "name": "python3"
  },
  "language_info": {
   "codemirror_mode": {
    "name": "ipython",
    "version": 3
   },
   "file_extension": ".py",
   "mimetype": "text/x-python",
   "name": "python",
   "nbconvert_exporter": "python",
   "pygments_lexer": "ipython3",
   "version": "3.9.12"
  }
 },
 "nbformat": 4,
 "nbformat_minor": 5
}
