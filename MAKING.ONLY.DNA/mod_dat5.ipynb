{
 "cells": [
  {
   "cell_type": "code",
   "execution_count": 9,
   "id": "28397d44-be9e-4d4d-94ee-70505df840a0",
   "metadata": {},
   "outputs": [
    {
     "name": "stdout",
     "output_type": "stream",
     "text": [
      "5 5\n"
     ]
    }
   ],
   "source": [
    "b1 = []\n",
    "b2 = []\n",
    "\n",
    "for jj in range(541, 526, -3):\n",
    "    b2.append(jj)\n",
    "for iii in range(4, 17, 3):\n",
    "    b1.append(iii)\n",
    "    \n",
    "print(len(b1), len(b2))"
   ]
  },
  {
   "cell_type": "code",
   "execution_count": 10,
   "id": "df920d8d-881e-4d77-a64d-d97ff3e366d4",
   "metadata": {},
   "outputs": [],
   "source": [
    "count = 0\n",
    "m = 1.00\n",
    "outp = open('cont_5_newm.dat', 'w')\n",
    "outc = open('list_5m.dat', 'w')\n",
    "for k in range(len(b1)):\n",
    "    count = count + 1\n",
    "    b_d = 11.56\n",
    "    ss3 = '{:>5d}{:>5d}{:>5d}{:>10.3f}{:>9.6f}{}'.format(count, b1[k], b2[k], b_d, m, '\\n')\n",
    "    ssn = '{:>5d}{:>5d}{}'.format(b1[k], b2[k], '\\n')\n",
    "    outp.writelines(ss3)\n",
    "    outc.writelines(ssn)\n",
    "outp.close()\n",
    "outc.close()"
   ]
  },
  {
   "cell_type": "code",
   "execution_count": 11,
   "id": "fe8822df-0877-40c7-936a-82253d91b703",
   "metadata": {},
   "outputs": [],
   "source": [
    "inp1 = open('list_5m.dat', 'r')\n",
    "inp2 = open('test2.dat', 'r')\n",
    "outs = open('mod_5m.dat', 'w')\n",
    "con = []\n",
    "for line in inp1:\n",
    "    arr = line.split()\n",
    "    con.append(int(arr[0]))\n",
    "    con.append(int(arr[1]))\n",
    "    \n",
    "count =0\n",
    "con_rep = 0\n",
    "for line2 in inp2:\n",
    "    count = count + 1\n",
    "    flag = 0\n",
    "    a = line2[0:8]\n",
    "    b = line2[8:13]\n",
    "    c = line2[13:18]\n",
    "    d = line2[18:-1]\n",
    "    for i in range(len(con1)):\n",
    "        if int(b) == con1[i] and int(c) == con2[i]:\n",
    "            flag = 1\n",
    "    if flag == 0:\n",
    "        con_rep = con_rep + 1\n",
    "        pp = line2[8:-1]\n",
    "        ss = '{:>8d}{}{}'.format(con_rep, pp, '\\n')\n",
    "        outs.writelines(ss)\n",
    "inp1.close()\n",
    "inp2.close()\n",
    "outs.close()"
   ]
  },
  {
   "cell_type": "code",
   "execution_count": null,
   "id": "b223bd97-585f-42bc-9fa0-2031c778b517",
   "metadata": {},
   "outputs": [],
   "source": []
  }
 ],
 "metadata": {
  "kernelspec": {
   "display_name": "Python 3 (ipykernel)",
   "language": "python",
   "name": "python3"
  },
  "language_info": {
   "codemirror_mode": {
    "name": "ipython",
    "version": 3
   },
   "file_extension": ".py",
   "mimetype": "text/x-python",
   "name": "python",
   "nbconvert_exporter": "python",
   "pygments_lexer": "ipython3",
   "version": "3.9.12"
  }
 },
 "nbformat": 4,
 "nbformat_minor": 5
}
