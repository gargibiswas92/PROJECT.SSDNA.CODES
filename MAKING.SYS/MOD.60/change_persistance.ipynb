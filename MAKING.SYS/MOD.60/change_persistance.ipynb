{
 "cells": [
  {
   "cell_type": "code",
   "execution_count": 5,
   "id": "c6711da5-3831-48f2-872a-69ca62a4b49a",
   "metadata": {},
   "outputs": [],
   "source": [
    "inp1 = open('dna60.dat', 'r')\n",
    "out1 = open('dna60_00.dat', 'w')\n",
    "count = 0\n",
    "m = 0.0\n",
    "for line in inp1:\n",
    "    count = count + 1\n",
    "    if count >= 8749 and count <=8805:\n",
    "        arr = line.split()\n",
    "        ss = '{:>5d}{:>5d}{:>5d}{:>5d}{:>5d}{:>8.3f}{:>8.3f}{:>8.3f}{:>8.3f}{}'.format(int(arr[0]), int(arr[1]), int(arr[2]), int(arr[3]), int(arr[4]), float(arr[5]), m, m, m , '\\n')\n",
    "        out1.writelines(ss)\n",
    "    else:\n",
    "        out1.writelines(line)\n",
    "inp1.close()"
   ]
  },
  {
   "cell_type": "code",
   "execution_count": null,
   "id": "0793020a-b57b-4325-9adb-f60d40291c89",
   "metadata": {},
   "outputs": [],
   "source": []
  }
 ],
 "metadata": {
  "kernelspec": {
   "display_name": "Python 3 (ipykernel)",
   "language": "python",
   "name": "python3"
  },
  "language_info": {
   "codemirror_mode": {
    "name": "ipython",
    "version": 3
   },
   "file_extension": ".py",
   "mimetype": "text/x-python",
   "name": "python",
   "nbconvert_exporter": "python",
   "pygments_lexer": "ipython3",
   "version": "3.9.12"
  }
 },
 "nbformat": 4,
 "nbformat_minor": 5
}
