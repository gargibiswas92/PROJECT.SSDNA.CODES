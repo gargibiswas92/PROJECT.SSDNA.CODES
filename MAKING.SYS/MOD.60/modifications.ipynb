{
 "cells": [
  {
   "cell_type": "code",
   "execution_count": 2,
   "id": "29ed8062-1987-4c6c-bd69-02c54b226a38",
   "metadata": {},
   "outputs": [],
   "source": [
    "inp1 = open('mod.dat', 'r')\n",
    "out1 = open('mod2.dat', 'w')\n",
    "count = 0\n",
    "m = 0.0\n",
    "for line in inp1:\n",
    "    arr = line.split()\n",
    "    ss = '{:>5d}{:>5d}{:>5d}{:>5d}{:>5d}{:>8.3f}{:>8.3f}{:>8.3f}{:>8.3f}{}'.format(int(arr[0]), int(arr[1]), int(arr[2]), int(arr[3]), int(arr[4]), float(arr[5]), m, m, m , '\\n')\n",
    "    out1.writelines(ss)\n",
    "inp1.close()\n",
    "out1.close()"
   ]
  },
  {
   "cell_type": "code",
   "execution_count": null,
   "id": "dd4d4ab8-2051-44af-bfd1-ad86f57966c9",
   "metadata": {},
   "outputs": [],
   "source": []
  }
 ],
 "metadata": {
  "kernelspec": {
   "display_name": "Python 3 (ipykernel)",
   "language": "python",
   "name": "python3"
  },
  "language_info": {
   "codemirror_mode": {
    "name": "ipython",
    "version": 3
   },
   "file_extension": ".py",
   "mimetype": "text/x-python",
   "name": "python",
   "nbconvert_exporter": "python",
   "pygments_lexer": "ipython3",
   "version": "3.9.12"
  }
 },
 "nbformat": 4,
 "nbformat_minor": 5
}
