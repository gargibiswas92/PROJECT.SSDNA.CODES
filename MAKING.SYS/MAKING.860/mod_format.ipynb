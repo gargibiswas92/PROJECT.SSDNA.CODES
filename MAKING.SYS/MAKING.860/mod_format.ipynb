{
 "cells": [
  {
   "cell_type": "code",
   "execution_count": 2,
   "id": "f8d1752c-df3c-4cb8-830e-64fc2215f438",
   "metadata": {},
   "outputs": [],
   "source": [
    "inp1 = open(\"1ii.pdb\", \"r\")\n",
    "\n",
    "atom = []\n",
    "atom_num = []\n",
    "atom_name = []\n",
    "chain_1 = []\n",
    "chain_2 = []\n",
    "res_num = []\n",
    "x_cord = []\n",
    "y_cord = []\n",
    "z_cord = []\n",
    "occu = []\n",
    "b_fact = []\n",
    "atom_type = []\n",
    "\n",
    "for lines in inp1:\n",
    "    if lines.startswith(\"ATOM\"):\n",
    "        arr = lines.split()\n",
    "        atom.append(str(arr[0]))\n",
    "        atom_num.append(int(arr[1]))\n",
    "        atom_name.append(str(arr[2]))\n",
    "        chain_1.append(str(arr[3]))\n",
    "        chain_2.append(str(arr[4]))\n",
    "        res_num.append(int(arr[5]))\n",
    "        x_cord.append(float(arr[6]))\n",
    "        y_cord.append(float(arr[7]))\n",
    "        z_cord.append(float(arr[8]))\n",
    "        occu.append(float(arr[9]))\n",
    "        b_fact.append(float(arr[10]))\n",
    "        #atom_type.append(str(arr[11]))\n",
    "\n",
    "new_at_num = []\n",
    "new_res_num = []\n",
    "out2 = open(\"1ii_mod.pdb\", \"w\")\n",
    "\n",
    "for j in range(len(atom_num)):\n",
    "    ab = atom_num[j] + 0\n",
    "    bc = res_num[j] + 0\n",
    "    new_at_num.append(ab)\n",
    "    new_res_num.append(bc)\n",
    "    ss = '{}{:>7s}{}{:<3s}{}{:>5s}{:>12.1f}{:>8.1f}{:>8.1f}{}{}{}'.format('ATOM', str(new_at_num[j]), ' ', str(atom_name[j]),'   C D', str(new_res_num[j]), x_cord[j], y_cord[j], z_cord[j], '  1.00', '  0.00', \"\\n\")\n",
    "    out2.writelines(ss)\n",
    "    \n",
    "inp1.close()\n",
    "out2.close()"
   ]
  },
  {
   "cell_type": "code",
   "execution_count": null,
   "id": "22ccf681-e215-4641-886e-00320fb4d99a",
   "metadata": {},
   "outputs": [],
   "source": []
  }
 ],
 "metadata": {
  "kernelspec": {
   "display_name": "Python 3 (ipykernel)",
   "language": "python",
   "name": "python3"
  },
  "language_info": {
   "codemirror_mode": {
    "name": "ipython",
    "version": 3
   },
   "file_extension": ".py",
   "mimetype": "text/x-python",
   "name": "python",
   "nbconvert_exporter": "python",
   "pygments_lexer": "ipython3",
   "version": "3.9.12"
  }
 },
 "nbformat": 4,
 "nbformat_minor": 5
}
