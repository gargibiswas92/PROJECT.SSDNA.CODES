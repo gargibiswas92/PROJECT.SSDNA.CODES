{
 "cells": [
  {
   "cell_type": "code",
   "execution_count": 29,
   "id": "f5ce128c-e406-4ea0-aa31-923e3d214afc",
   "metadata": {},
   "outputs": [
    {
     "ename": "ValueError",
     "evalue": "could not convert string to float: '1     -950.7'",
     "output_type": "error",
     "traceback": [
      "\u001b[0;31m---------------------------------------------------------------------------\u001b[0m",
      "\u001b[0;31mValueError\u001b[0m                                Traceback (most recent call last)",
      "Input \u001b[0;32mIn [29]\u001b[0m, in \u001b[0;36m<cell line: 10>\u001b[0;34m()\u001b[0m\n\u001b[1;32m     15\u001b[0m c \u001b[38;5;241m=\u001b[39m line[\u001b[38;5;241m46\u001b[39m:\u001b[38;5;241m54\u001b[39m]\n\u001b[1;32m     16\u001b[0m n \u001b[38;5;241m=\u001b[39m line[\u001b[38;5;241m54\u001b[39m:\u001b[38;5;241m-\u001b[39m\u001b[38;5;241m1\u001b[39m]\n\u001b[0;32m---> 17\u001b[0m x\u001b[38;5;241m.\u001b[39mappend(\u001b[38;5;28;43mfloat\u001b[39;49m\u001b[43m(\u001b[49m\u001b[43ma\u001b[49m\u001b[43m)\u001b[49m\u001b[38;5;241m+\u001b[39m \u001b[38;5;241m486.0\u001b[39m)\n\u001b[1;32m     18\u001b[0m aa\u001b[38;5;241m=\u001b[39m\u001b[38;5;28mfloat\u001b[39m(a)\u001b[38;5;241m+\u001b[39m \u001b[38;5;241m486.0\u001b[39m\n\u001b[1;32m     19\u001b[0m \u001b[38;5;66;03m#x.append(float(a))\u001b[39;00m\n",
      "\u001b[0;31mValueError\u001b[0m: could not convert string to float: '1     -950.7'"
     ]
    }
   ],
   "source": [
    "inp1 = open('prot_dna.pdb', 'r')\n",
    "#out1 = open('')\n",
    "x = []\n",
    "y = []\n",
    "z = []\n",
    "at1 = []\n",
    "at2 = []\n",
    "ln = []\n",
    "out1 = open('out_1.pdb', 'w')\n",
    "for line in inp1:\n",
    "    if line.startswith('ATOM'):\n",
    "        m = line[0:26]\n",
    "        a = line[26:38]\n",
    "        b = line[38:46]\n",
    "        c = line[46:54]\n",
    "        n = line[54:-1]\n",
    "        x.append(float(a)+ 486.0)\n",
    "        aa=float(a)+ 486.0\n",
    "        #x.append(float(a))\n",
    "        y.append(float(b))\n",
    "        bb=float(b)\n",
    "        z.append(float(c)-655.0)\n",
    "        cc=float(c)-655.0\n",
    "        #z.append(float(c))\n",
    "        at1.append(m)\n",
    "        at2.append(n)\n",
    "        ss='{}{:>12.2f}{:>8.2f}{:>8.2f}{}{}'.format(m, aa, bb, cc, n, '\\n')\n",
    "        out1.writelines(ss)\n",
    "    else:\n",
    "        sp = line\n",
    "        out1.writelines(sp)\n",
    "    \n",
    "out1.close()   \n",
    "        \n",
    "    "
   ]
  },
  {
   "cell_type": "code",
   "execution_count": 24,
   "id": "2b63ebf6-3218-49f0-97c0-72a65423397a",
   "metadata": {},
   "outputs": [
    {
     "name": "stdout",
     "output_type": "stream",
     "text": [
      "466.873 -467.38199999999995 2.064 574.6 -576.663 578.3199999999999\n"
     ]
    }
   ],
   "source": [
    "minx = min(x)\n",
    "maxx = max(x)\n",
    "\n",
    "miny = min(y)\n",
    "maxy = max(y)\n",
    "\n",
    "minz = min(z)\n",
    "maxz = max(z)\n",
    "\n",
    "print(maxx, minx, miny, maxy, minz, maxz)"
   ]
  },
  {
   "cell_type": "code",
   "execution_count": null,
   "id": "6687f012-3a09-4515-a06f-11734921025d",
   "metadata": {},
   "outputs": [],
   "source": []
  }
 ],
 "metadata": {
  "kernelspec": {
   "display_name": "Python 3 (ipykernel)",
   "language": "python",
   "name": "python3"
  },
  "language_info": {
   "codemirror_mode": {
    "name": "ipython",
    "version": 3
   },
   "file_extension": ".py",
   "mimetype": "text/x-python",
   "name": "python",
   "nbconvert_exporter": "python",
   "pygments_lexer": "ipython3",
   "version": "3.9.12"
  }
 },
 "nbformat": 4,
 "nbformat_minor": 5
}
