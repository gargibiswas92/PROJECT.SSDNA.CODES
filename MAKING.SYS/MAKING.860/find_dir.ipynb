{
 "cells": [
  {
   "cell_type": "code",
   "execution_count": 7,
   "id": "3c6905cd-b1b0-46f3-bc1d-9dfd28c7c08e",
   "metadata": {},
   "outputs": [
    {
     "name": "stdout",
     "output_type": "stream",
     "text": [
      "75.52997379848611\n",
      "0.6198934964838717 -0.06521943881003962 -0.7819708932040268 1340\n",
      "0.501224151922026 -0.5679649008061632 -0.6528324601169055 3943\n"
     ]
    }
   ],
   "source": [
    "import math\n",
    "inp1 = open(\"str.pdb\", \"r\")\n",
    "\n",
    "bead = []\n",
    "x_cord = []\n",
    "y_cord = []\n",
    "z_cord = []\n",
    "\n",
    "for lines in inp1:\n",
    "    a = lines[4:11]\n",
    "    b = lines[26:38]\n",
    "    c = lines[38:46]\n",
    "    d = lines[46:54]\n",
    "    \n",
    "    bead.append(int(a))\n",
    "    x_cord.append(float(b))\n",
    "    y_cord.append(float(c))\n",
    "    z_cord.append(float(d))\n",
    "    \n",
    "def get_coordinates(ind):\n",
    "    for k in range(len(bead)):\n",
    "        if bead[k] == ind:\n",
    "            l = x_cord[k]\n",
    "            m = y_cord[k]\n",
    "            n = z_cord[k]\n",
    "    return l, m, n\n",
    "def dir_cosine(x1, y1, z1, x2, y2, z2):\n",
    "    r1 = (x1 - x2)\n",
    "    r2 = (y1 - y2)\n",
    "    r3 = (z1 - z2)\n",
    "    r_m = math.sqrt(r1**2 + r2**2 + r3**2)\n",
    "    return (r1/r_m), (r2/r_m), (r3/r_m)\n",
    "\n",
    "def distance(x1, y1, z1, x2, y2, z2):\n",
    "    r1 = (x1 - x2)\n",
    "    r2 = (y1 - y2)\n",
    "    r3 = (z1 - z2)\n",
    "    r_m = math.sqrt(r1**2 + r2**2 + r3**2)\n",
    "    return (r_m)\n",
    "\n",
    "for i in range(len(bead)):\n",
    "    if bead[i] == 852:\n",
    "        ind1 = bead[i]\n",
    "        x1, y1, z1 = get_coordinates(ind1)\n",
    "    if bead[i] == 1220:\n",
    "        ind2 = bead[i]\n",
    "        x2, y2, z2 = get_coordinates(ind2)\n",
    "ll, mm, nn = dir_cosine(x1, y1, z1, x2, y2, z2)\n",
    "dd = distance(x1, y1, z1, x2, y2, z2)\n",
    "#print(ll, mm, nn)\n",
    "\n",
    "def get_points(x1, y1, z1, l, m, n, dist):\n",
    "    x2 = x1 + dist*l\n",
    "    y2 = y1 + dist*m\n",
    "    z2 = z1 + dist*n\n",
    "    return x2, y2, z2\n",
    "print(dd)\n",
    "\n",
    "\n",
    "x3, y3, z3 = get_points(x1, y1, z1, ll, mm, nn, 400)\n",
    "#print(x3, y3, z3)#force to be applied on residue 928## 2042\n",
    "\n",
    "x4, y4, z4 = get_points(x2, y2, z2, -ll, -mm, -nn, 400)\n",
    "\n",
    "for i in range(len(bead)):\n",
    "    if bead[i] == 1340:\n",
    "        ind3 = bead[i]\n",
    "        #print(ind3)\n",
    "        x5, y5, z5 = get_coordinates(ind3)\n",
    "        #print(x5, y5, z5)\n",
    "    if bead[i] == 3943:\n",
    "        ind4 = bead[i]\n",
    "        x6, y6, z6 = get_coordinates(ind4)\n",
    "        \n",
    "l1, m1, n1 = dir_cosine(x4, y4, z4, x5, y5, z5)\n",
    "l2, m2, n2 = dir_cosine(x3, y3, z3, x6, y6, z6)\n",
    "print(l1, m1, n1, ind3)\n",
    "print(l2, m2, n2, ind4)"
   ]
  },
  {
   "cell_type": "code",
   "execution_count": 8,
   "id": "fed99391-3b92-421a-94d1-a00a61cb2ac4",
   "metadata": {},
   "outputs": [
    {
     "name": "stdout",
     "output_type": "stream",
     "text": [
      "0.619075774242498 -0.08435953117639367 -0.780787202280974 1340\n",
      "0.507824927194823 -0.5518829195226256 -0.6614673736918215 3943\n"
     ]
    }
   ],
   "source": [
    "x3, y3, z3 = get_points(x1, y1, z1, ll, mm, nn, 370)\n",
    "#print(x3, y3, z3)#force to be applied on residue 928## 2042\n",
    "\n",
    "x4, y4, z4 = get_points(x2, y2, z2, -ll, -mm, -nn, 370)\n",
    "\n",
    "for i in range(len(bead)):\n",
    "    if bead[i] == 1340:\n",
    "        ind3 = bead[i]\n",
    "        #print(ind3)\n",
    "        x5, y5, z5 = get_coordinates(ind3)\n",
    "        #print(x5, y5, z5)\n",
    "    if bead[i] == 3943:\n",
    "        ind4 = bead[i]\n",
    "        x6, y6, z6 = get_coordinates(ind4)\n",
    "        \n",
    "l1, m1, n1 = dir_cosine(x4, y4, z4, x5, y5, z5)\n",
    "l2, m2, n2 = dir_cosine(x3, y3, z3, x6, y6, z6)\n",
    "print(l1, m1, n1, ind3)\n",
    "print(l2, m2, n2, ind4)"
   ]
  },
  {
   "cell_type": "code",
   "execution_count": 9,
   "id": "9493eea3-93c3-4d03-b1c1-f826f3fc5661",
   "metadata": {},
   "outputs": [
    {
     "name": "stdout",
     "output_type": "stream",
     "text": [
      "0.6184001140439739 -0.09716938884620457 -0.7798329364816898 1340\n",
      "0.512168957723533 -0.5409185775263397 -0.6671506960434587 3943\n"
     ]
    }
   ],
   "source": [
    "x3, y3, z3 = get_points(x1, y1, z1, ll, mm, nn, 350)\n",
    "#print(x3, y3, z3)#force to be applied on residue 928## 2042\n",
    "\n",
    "x4, y4, z4 = get_points(x2, y2, z2, -ll, -mm, -nn, 350)\n",
    "\n",
    "for i in range(len(bead)):\n",
    "    if bead[i] == 1340:\n",
    "        ind3 = bead[i]\n",
    "        #print(ind3)\n",
    "        x5, y5, z5 = get_coordinates(ind3)\n",
    "        #print(x5, y5, z5)\n",
    "    if bead[i] == 3943:\n",
    "        ind4 = bead[i]\n",
    "        x6, y6, z6 = get_coordinates(ind4)\n",
    "        \n",
    "l1, m1, n1 = dir_cosine(x4, y4, z4, x5, y5, z5)\n",
    "l2, m2, n2 = dir_cosine(x3, y3, z3, x6, y6, z6)\n",
    "print(l1, m1, n1, ind3)\n",
    "print(l2, m2, n2, ind4)"
   ]
  },
  {
   "cell_type": "code",
   "execution_count": 10,
   "id": "32fe8f19-5a2b-47ab-8d4e-a404066489f3",
   "metadata": {},
   "outputs": [
    {
     "name": "stdout",
     "output_type": "stream",
     "text": [
      "0.6196468544277607 -0.07158849086557396 -0.7816091502620547 1340\n",
      "0.5034350346229786 -0.5626530800761569 -0.6557245438406085 3943\n"
     ]
    }
   ],
   "source": [
    "x3, y3, z3 = get_points(x1, y1, z1, ll, mm, nn, 390)\n",
    "#print(x3, y3, z3)#force to be applied on residue 928## 2042\n",
    "\n",
    "x4, y4, z4 = get_points(x2, y2, z2, -ll, -mm, -nn, 390)\n",
    "\n",
    "for i in range(len(bead)):\n",
    "    if bead[i] == 1340:\n",
    "        ind3 = bead[i]\n",
    "        #print(ind3)\n",
    "        x5, y5, z5 = get_coordinates(ind3)\n",
    "        #print(x5, y5, z5)\n",
    "    if bead[i] == 3943:\n",
    "        ind4 = bead[i]\n",
    "        x6, y6, z6 = get_coordinates(ind4)\n",
    "        \n",
    "l1, m1, n1 = dir_cosine(x4, y4, z4, x5, y5, z5)\n",
    "l2, m2, n2 = dir_cosine(x3, y3, z3, x6, y6, z6)\n",
    "print(l1, m1, n1, ind3)\n",
    "print(l2, m2, n2, ind4)"
   ]
  },
  {
   "cell_type": "code",
   "execution_count": null,
   "id": "4e2ee570-f32e-441c-abc9-c25c58535196",
   "metadata": {},
   "outputs": [],
   "source": []
  }
 ],
 "metadata": {
  "kernelspec": {
   "display_name": "Python 3 (ipykernel)",
   "language": "python",
   "name": "python3"
  },
  "language_info": {
   "codemirror_mode": {
    "name": "ipython",
    "version": 3
   },
   "file_extension": ".py",
   "mimetype": "text/x-python",
   "name": "python",
   "nbconvert_exporter": "python",
   "pygments_lexer": "ipython3",
   "version": "3.9.12"
  }
 },
 "nbformat": 4,
 "nbformat_minor": 5
}
