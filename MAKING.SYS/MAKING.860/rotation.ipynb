{
 "cells": [
  {
   "cell_type": "code",
   "execution_count": 23,
   "id": "845d1dbc-9b4c-47ba-92cf-c2e2a7c57012",
   "metadata": {},
   "outputs": [
    {
     "name": "stdout",
     "output_type": "stream",
     "text": [
      "451.766 420.118 -568.715\n",
      "412.466 -371.0 -533.801\n",
      "1339 3942 -0.04956722384580507 -0.9977995672886921 0.04403537031431137\n"
     ]
    }
   ],
   "source": [
    "import math\n",
    "\n",
    "inp1 = open(\"snap119.pdb\", \"r\")\n",
    "atom_num = []\n",
    "atom_name = []\n",
    "res_name = []\n",
    "res_num = []\n",
    "x = []\n",
    "y = []\n",
    "z = []\n",
    "count = 0\n",
    "\n",
    "for line in inp1:\n",
    "    a = line[4:11]\n",
    "    b = line[11:15]\n",
    "    c = line[15:20]\n",
    "    d = line[22:26]\n",
    "    e = line[26:38]\n",
    "    f = line[38:46]\n",
    "    g = line[46:54]\n",
    "    \n",
    "    atom_num.append(int(a))\n",
    "    atom_name.append(b.strip())\n",
    "    res_name.append(c.strip())\n",
    "    res_num.append(int(d))\n",
    "    x.append(float(e))\n",
    "    y.append(float(f))\n",
    "    z.append(float(g))\n",
    "    count = count + 1\n",
    "    \n",
    "def dir_cosine(x1, y1, z1, x2, y2, z2):\n",
    "    dx = x2 - x1\n",
    "    dy = y2 - y1\n",
    "    dz = z2 - z1\n",
    "    rm = math.sqrt(dx**2 + dy**2 + dz**2)\n",
    "    return dx/rm, dy/rm, dz/rm\n",
    "    \n",
    "for i in range(count):\n",
    "    if atom_num[i] == 1340:\n",
    "        ind1 = i\n",
    "        x1 = x[i]\n",
    "        y1 = y[i]\n",
    "        z1 = z[i]\n",
    "        print(x1, y1, z1)\n",
    "    if atom_num[i] == 3943:\n",
    "        ind2 = i\n",
    "        x2 = x[i]\n",
    "        y2 = y[i]\n",
    "        z2 = z[i]\n",
    "        print(x2, y2, z2)\n",
    "alpha, beta, gamma = dir_cosine(x1, y1, z1, x2, y2, z2)\n",
    "print(ind1, ind2, alpha, beta, gamma)\n"
   ]
  },
  {
   "cell_type": "code",
   "execution_count": 24,
   "id": "7fac4f13-af10-4e5d-a4a3-da0c75ba1832",
   "metadata": {},
   "outputs": [],
   "source": [
    "def translate(x, y, z, a, b, c):\n",
    "    xn = []\n",
    "    yn = []\n",
    "    zn = []\n",
    "    for i in range(len(x)):\n",
    "        xx = x[i] + a\n",
    "        yy = y[i] + b\n",
    "        zz = z[i] + c\n",
    "        xn.append(xx)\n",
    "        yn.append(yy)\n",
    "        zn.append(zz)\n",
    "    return xn, yn, zn\n"
   ]
  },
  {
   "cell_type": "code",
   "execution_count": 25,
   "id": "a4b8cafc-e83f-406f-8167-fc722e39a47b",
   "metadata": {},
   "outputs": [
    {
     "name": "stdout",
     "output_type": "stream",
     "text": [
      "1.6203838701461744 3.0752414641628314 1.526746712448393\n",
      "92.83989384002506 176.19595968920942 87.47495288973069\n"
     ]
    }
   ],
   "source": [
    "m = 57.295\n",
    "ang1 = math.acos(alpha)\n",
    "ang2 = math.acos(beta)\n",
    "ang3 = math.acos(gamma)\n",
    "\n",
    "print(math.acos(alpha), math.acos(beta), math.acos(gamma))\n",
    "print(math.acos(alpha)*m, math.acos(beta)*m, math.acos(gamma)*m)\n",
    "\n",
    "def x_rotation(ang, x, y, z):\n",
    "    x_n1 = []\n",
    "    y_n1 = []\n",
    "    z_n1 = []\n",
    "    for i in range(len(x)):\n",
    "        a1 = x[i]\n",
    "        b1 = (math.cos(ang)*y[i]) - (z[i]*math.sin(ang))\n",
    "        c1 = (math.sin(ang)*y[i]) + (z[i]*math.cos(ang))\n",
    "        \n",
    "        x_n1.append(a1)\n",
    "        y_n1.append(b1)\n",
    "        z_n1.append(c1)\n",
    "        \n",
    "    return x_n1, y_n1, z_n1\n",
    "\n",
    "def y_rotation(ang, x, y, z):\n",
    "    x_n2 = []\n",
    "    y_n2 = []\n",
    "    z_n2 = []\n",
    "    for i in range(len(x)):\n",
    "        a1 = (x[i]*math.cos(ang)) + (z[i]*math.sin(ang))\n",
    "        b1 = y[i]\n",
    "        c1 = (z[i]*math.cos(ang)) - (x[i]*math.sin(ang))\n",
    "        \n",
    "        x_n2.append(a1)\n",
    "        y_n2.append(b1)\n",
    "        z_n2.append(c1)\n",
    "        \n",
    "    return x_n2, y_n2, z_n2\n",
    "\n",
    "def z_rotation(ang, x, y, z):\n",
    "    x_n3 = []\n",
    "    y_n3 = []\n",
    "    z_n3 = []\n",
    "    for i in range(len(x)):\n",
    "        a1 = (x[i]*math.cos(ang)) - (y[i]*math.sin(ang))\n",
    "        b1 = (x[i]*math.sin(ang)) + (y[i]*math.cos(ang))\n",
    "        c1 = z[i]\n",
    "        \n",
    "        x_n3.append(a1)\n",
    "        y_n3.append(b1)\n",
    "        z_n3.append(c1)\n",
    "        \n",
    "    return x_n3, y_n3, z_n3\n",
    "\n",
    "#rotx1, roty1, rotz1 = x_rotation(ang1, xt, yt, zt)\n",
    "#rotx2, roty2, rotz2 = y_rotation(ang2, rotx1, roty1, rotz1)\n",
    "#rotx3, roty3, rotz3 = z_rotation(ang3, rotx2, roty2, rotz2)\n",
    "\n",
    "rotx1, roty1, rotz1 = y_rotation(ang2, x, y, z)\n",
    "rotx2, roty2, rotz2 = z_rotation(ang3, rotx1, roty1, rotz1)\n",
    "rotx3, roty3, rotz3 = x_rotation(ang1, rotx2, roty2, rotz2)\n"
   ]
  },
  {
   "cell_type": "code",
   "execution_count": 26,
   "id": "10207265-7e49-4519-96e6-926716b8055e",
   "metadata": {},
   "outputs": [
    {
     "name": "stdout",
     "output_type": "stream",
     "text": [
      "-441.22083447796257 -513.5775730249526 -495.5710399260332\n",
      "350.95847825790804 -481.7153762412934 -487.3306388773464\n",
      "1339 3942 0.9991381506461807 0.040186275831926806 0.010393226548586912\n",
      "0.041520433033961975 1.5305992267125241 1.5604029131259503\n",
      "2.378945576401585 87.69687581661509 89.4045012620358\n"
     ]
    }
   ],
   "source": [
    "for i in range(count):\n",
    "    if atom_num[i] == 1340:\n",
    "        ind1 = i\n",
    "        x1 = rotx3[i]\n",
    "        y1 = roty3[i]\n",
    "        z1 = rotz3[i]\n",
    "        print(x1, y1, z1)\n",
    "    if atom_num[i] == 3943:\n",
    "        ind2 = i\n",
    "        x2 = rotx3[i]\n",
    "        y2 = roty3[i]\n",
    "        z2 = rotz3[i]\n",
    "        print(x2, y2, z2)\n",
    "alpha1, beta1, gamma1 = dir_cosine(x1, y1, z1, x2, y2, z2)\n",
    "print(ind1, ind2, alpha1, beta1, gamma1)\n",
    "\n",
    "m = 180/(math.pi)\n",
    "ang11 = math.acos(alpha1)\n",
    "ang22 = math.acos(beta1)\n",
    "ang33 = math.acos(gamma1)\n",
    "print(ang11, ang22, ang33)\n",
    "print(m*ang11, m*ang22, m*ang33)\n"
   ]
  },
  {
   "cell_type": "code",
   "execution_count": 15,
   "id": "87b1f400-df46-4870-bbdb-1a6f5bcbee71",
   "metadata": {},
   "outputs": [
    {
     "name": "stdout",
     "output_type": "stream",
     "text": [
      "350.95847825790804 -507.04733616895794\n",
      "-391.4976869934089 -662.7088266897483\n",
      "-341.25393560778707 -633.7944885760496\n"
     ]
    }
   ],
   "source": [
    "maxx = max(rotx3)\n",
    "minx = min(rotx3)\n",
    "print(maxx, minx)\n",
    "maxy = max(roty3)\n",
    "miny = min(roty3)\n",
    "print(maxy, miny)\n",
    "maxz = max(rotz3)\n",
    "minz = min(rotz3)\n",
    "print(maxz, minz)\n"
   ]
  },
  {
   "cell_type": "code",
   "execution_count": 27,
   "id": "d80a5eed-6de8-41b9-a330-e504c7c4fc26",
   "metadata": {},
   "outputs": [],
   "source": [
    "xt, yt, zt = translate(rotx3, roty3, rotz3, 79.0, 526.0, 487.0)"
   ]
  },
  {
   "cell_type": "code",
   "execution_count": 28,
   "id": "e7fd4059-a200-4a29-b4d7-72e78da5c5b6",
   "metadata": {},
   "outputs": [
    {
     "name": "stdout",
     "output_type": "stream",
     "text": [
      "429.95847825790804 -428.04733616895794\n",
      "134.50231300659112 -136.70882668974832\n",
      "145.74606439221293 -146.79448857604962\n"
     ]
    }
   ],
   "source": [
    "maxx = max(xt)\n",
    "minx = min(xt)\n",
    "print(maxx, minx)\n",
    "maxy = max(yt)\n",
    "miny = min(yt)\n",
    "print(maxy, miny)\n",
    "maxz = max(zt)\n",
    "minz = min(zt)\n",
    "print(maxz, minz)\n"
   ]
  },
  {
   "cell_type": "code",
   "execution_count": 19,
   "id": "e1f11267-cdfd-4352-a6c7-fce1d7c2c673",
   "metadata": {},
   "outputs": [],
   "source": [
    "m = 1.0\n",
    "n = 0\n",
    "atom_type = \"C\"\n",
    "out1 = open(\"rot_mod_119.dat\", \"w\")   \n",
    "for i in range(len(atom_num)):\n",
    "    if atom_num[i] <= 1339:\n",
    "        #ss = '{:>5d}{:>4d}{:>3s}{:>4s}{:>8.3f}{:>8.3f}{:>8.3f}{:>8.3f}{}'.format(atom[i], res_num[i], atom_name[i], res_name[i], x[i], y[i], z[i], m, \"\\n\")\n",
    "        ss = '{:>5d}{:>4d}{:>3s}{:>4s}{:>8.3f}{:>8.3f}{:>8.3f}{:>8.3f}{}'.format(atom_num[i], res_num[i], atom_name[i], res_name[i], xt[i], yt[i], zt[i], m, \"\\n\")\n",
    "        out1.writelines(ss)\n",
    "    if atom_num[i] >= 1340:\n",
    "        ss1 = '{:>5d}{:>4d}{:>2s}{:>5s}{:>8.3f}{:>8.3f}{:>8.3f}{:>8.3f}{:>3d}{}'.format(atom_num[i], atom_num[i], atom_name[i], res_name[i], xt[i], yt[i], zt[i], m, n, \"\\n\")\n",
    "        out1.writelines(ss1)\n",
    "out1.close()"
   ]
  },
  {
   "cell_type": "code",
   "execution_count": 32,
   "id": "02c96cb7-e3ac-4eff-9784-e6b1fb75440b",
   "metadata": {},
   "outputs": [
    {
     "name": "stdout",
     "output_type": "stream",
     "text": [
      "-362.22083447796257 12.422426975047415 -8.571039926033222\n",
      "429.95847825790804 44.28462375870657 -0.3306388773464164\n",
      "1340 3943 0.9991381506461807 0.040186275831926806 0.010393226548586912\n",
      "0.041520433033961975 1.5305992267125241 1.5604029131259503\n",
      "2.378945576401585 87.69687581661509 89.4045012620358\n"
     ]
    }
   ],
   "source": [
    "for i in range(count):\n",
    "    if atom_num[i] == 1340:\n",
    "        ind1 = atom_num[i]\n",
    "        x1 = xt[i]\n",
    "        y1 = yt[i]\n",
    "        z1 = zt[i]\n",
    "        print(x1, y1, z1)\n",
    "    if atom_num[i] == 3943:\n",
    "        ind2 = atom_num[i]\n",
    "        x2 = xt[i]\n",
    "        y2 = yt[i]\n",
    "        z2 = zt[i]\n",
    "        print(x2, y2, z2)\n",
    "\n",
    "alpha1, beta1, gamma1 = dir_cosine(x1, y1, z1, x2, y2, z2)\n",
    "print(ind1, ind2, alpha1, beta1, gamma1)\n",
    "\n",
    "m = 180/(math.pi)\n",
    "ang11 = math.acos(alpha1)\n",
    "ang22 = math.acos(beta1)\n",
    "ang33 = math.acos(gamma1)\n",
    "print(ang11, ang22, ang33)\n",
    "print(m*ang11, m*ang22, m*ang33)"
   ]
  },
  {
   "cell_type": "code",
   "execution_count": 33,
   "id": "a3510b34-97b1-413a-bb1e-259f853f6bb6",
   "metadata": {},
   "outputs": [
    {
     "name": "stdout",
     "output_type": "stream",
     "text": [
      "792.8626408905895\n"
     ]
    }
   ],
   "source": [
    "def distance(x1, y1, z1, x2, y2, z2):\n",
    "    r1 = (x1 - x2)\n",
    "    r2 = (y1 - y2)\n",
    "    r3 = (z1 - z2)\n",
    "    r_m = math.sqrt(r1**2 + r2**2 + r3**2)\n",
    "    return (r_m)\n",
    "\n",
    "r = distance(x1, y1, z1, x2, y2, z2)\n",
    "\n",
    "print(r)"
   ]
  },
  {
   "cell_type": "code",
   "execution_count": 34,
   "id": "fbb52fd5-ecd7-4deb-b175-0e1536fdadb2",
   "metadata": {},
   "outputs": [
    {
     "name": "stdout",
     "output_type": "stream",
     "text": [
      "1340 3943 0.9991381506461807 0.040186275831926806 0.010393226548586912\n"
     ]
    }
   ],
   "source": [
    "print(ind1, ind2, alpha1, beta1, gamma1)"
   ]
  },
  {
   "cell_type": "code",
   "execution_count": null,
   "id": "c7b345e9-dffc-4387-bc90-a7d6f9afe2ae",
   "metadata": {},
   "outputs": [],
   "source": []
  }
 ],
 "metadata": {
  "kernelspec": {
   "display_name": "Python 3 (ipykernel)",
   "language": "python",
   "name": "python3"
  },
  "language_info": {
   "codemirror_mode": {
    "name": "ipython",
    "version": 3
   },
   "file_extension": ".py",
   "mimetype": "text/x-python",
   "name": "python",
   "nbconvert_exporter": "python",
   "pygments_lexer": "ipython3",
   "version": "3.9.12"
  }
 },
 "nbformat": 4,
 "nbformat_minor": 5
}
