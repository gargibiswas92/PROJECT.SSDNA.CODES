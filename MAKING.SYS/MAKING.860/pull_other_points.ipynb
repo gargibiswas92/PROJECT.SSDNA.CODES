{
 "cells": [
  {
   "cell_type": "code",
   "execution_count": 3,
   "id": "7424c89f-5480-431d-a0e4-6518e5fdc68f",
   "metadata": {},
   "outputs": [
    {
     "name": "stdout",
     "output_type": "stream",
     "text": [
      "75.26407788580154\n",
      "0.66430911817343 -0.12586755863478882 -0.7367840614419927 1880\n",
      "0.5083511436486753 -0.5007491429367198 -0.70059218565384 3419\n"
     ]
    }
   ],
   "source": [
    "import math\n",
    "inp1 = open(\"snap_pull1.pdb\", \"r\")\n",
    "\n",
    "bead = []\n",
    "x_cord = []\n",
    "y_cord = []\n",
    "z_cord = []\n",
    "\n",
    "for lines in inp1:\n",
    "    a = lines[4:11]\n",
    "    b = lines[26:38]\n",
    "    c = lines[38:46]\n",
    "    d = lines[46:54]\n",
    "    \n",
    "    bead.append(int(a))\n",
    "    x_cord.append(float(b))\n",
    "    y_cord.append(float(c))\n",
    "    z_cord.append(float(d))\n",
    "    \n",
    "def get_coordinates(ind):\n",
    "    for k in range(len(bead)):\n",
    "        if bead[k] == ind:\n",
    "            l = x_cord[k]\n",
    "            m = y_cord[k]\n",
    "            n = z_cord[k]\n",
    "    return l, m, n\n",
    "def dir_cosine(x1, y1, z1, x2, y2, z2):\n",
    "    r1 = (x1 - x2)\n",
    "    r2 = (y1 - y2)\n",
    "    r3 = (z1 - z2)\n",
    "    r_m = math.sqrt(r1**2 + r2**2 + r3**2)\n",
    "    return (r1/r_m), (r2/r_m), (r3/r_m)\n",
    "\n",
    "def distance(x1, y1, z1, x2, y2, z2):\n",
    "    r1 = (x1 - x2)\n",
    "    r2 = (y1 - y2)\n",
    "    r3 = (z1 - z2)\n",
    "    r_m = math.sqrt(r1**2 + r2**2 + r3**2)\n",
    "    return (r_m)\n",
    "\n",
    "for i in range(len(bead)):\n",
    "    if bead[i] == 852:\n",
    "        ind1 = bead[i]\n",
    "        x1, y1, z1 = get_coordinates(ind1)\n",
    "    if bead[i] == 1220:\n",
    "        ind2 = bead[i]\n",
    "        x2, y2, z2 = get_coordinates(ind2)\n",
    "ll, mm, nn = dir_cosine(x1, y1, z1, x2, y2, z2)\n",
    "dd = distance(x1, y1, z1, x2, y2, z2)\n",
    "#print(ll, mm, nn)\n",
    "\n",
    "def get_points(x1, y1, z1, l, m, n, dist):\n",
    "    x2 = x1 + dist*l\n",
    "    y2 = y1 + dist*m\n",
    "    z2 = z1 + dist*n\n",
    "    return x2, y2, z2\n",
    "print(dd)\n",
    "\n",
    "\n",
    "x3, y3, z3 = get_points(x1, y1, z1, ll, mm, nn, 200)\n",
    "#print(x3, y3, z3)#force to be applied on residue 928## 2042\n",
    "\n",
    "x4, y4, z4 = get_points(x2, y2, z2, -ll, -mm, -nn, 200)\n",
    "\n",
    "for i in range(len(bead)):\n",
    "    if bead[i] == 1880:\n",
    "        ind3 = bead[i]\n",
    "        #print(ind3)\n",
    "        x5, y5, z5 = get_coordinates(ind3)\n",
    "        #print(x5, y5, z5)\n",
    "    if bead[i] == 3419:\n",
    "        ind4 = bead[i]\n",
    "        x6, y6, z6 = get_coordinates(ind4)\n",
    "        \n",
    "l1, m1, n1 = dir_cosine(x4, y4, z4, x5, y5, z5)\n",
    "l2, m2, n2 = dir_cosine(x3, y3, z3, x6, y6, z6)\n",
    "print(l1, m1, n1, ind3)\n",
    "print(l2, m2, n2, ind4)"
   ]
  },
  {
   "cell_type": "code",
   "execution_count": 4,
   "id": "820ddaec-005c-4446-9c96-9b995f084a6e",
   "metadata": {},
   "outputs": [
    {
     "name": "stdout",
     "output_type": "stream",
     "text": [
      "0.5387045458205246 -0.13868864961394234 -0.8310011256193118 1625\n",
      "0.5900443359881088 -0.45858358929693394 -0.6644913642748811 3671\n"
     ]
    }
   ],
   "source": [
    "x3, y3, z3 = get_points(x1, y1, z1, ll, mm, nn, 300)\n",
    "#print(x3, y3, z3)#force to be applied on residue 928## 2042\n",
    "\n",
    "x4, y4, z4 = get_points(x2, y2, z2, -ll, -mm, -nn, 300)\n",
    "\n",
    "for i in range(len(bead)):\n",
    "    if bead[i] == 1625:\n",
    "        ind3 = bead[i]\n",
    "        #print(ind3)\n",
    "        x5, y5, z5 = get_coordinates(ind3)\n",
    "        #print(x5, y5, z5)\n",
    "    if bead[i] == 3671:\n",
    "        ind4 = bead[i]\n",
    "        x6, y6, z6 = get_coordinates(ind4)\n",
    "        \n",
    "l1, m1, n1 = dir_cosine(x4, y4, z4, x5, y5, z5)\n",
    "l2, m2, n2 = dir_cosine(x3, y3, z3, x6, y6, z6)\n",
    "print(l1, m1, n1, ind3)\n",
    "print(l2, m2, n2, ind4)"
   ]
  },
  {
   "cell_type": "code",
   "execution_count": 5,
   "id": "1eea1163-c394-4d43-94a0-cf345b1b28ae",
   "metadata": {},
   "outputs": [
    {
     "name": "stdout",
     "output_type": "stream",
     "text": [
      "0.6270375721022772 -0.158624531746399 -0.762667778983954 2183\n",
      "0.5051988909407219 -0.5312852362032678 -0.6800809351722062 3071\n"
     ]
    }
   ],
   "source": [
    "x3, y3, z3 = get_points(x1, y1, z1, ll, mm, nn, 100)\n",
    "#print(x3, y3, z3)#force to be applied on residue 928## 2042\n",
    "\n",
    "x4, y4, z4 = get_points(x2, y2, z2, -ll, -mm, -nn, 100)\n",
    "\n",
    "for i in range(len(bead)):\n",
    "    if bead[i] == 2183:\n",
    "        ind3 = bead[i]\n",
    "        #print(ind3)\n",
    "        x5, y5, z5 = get_coordinates(ind3)\n",
    "        #print(x5, y5, z5)\n",
    "    if bead[i] == 3071:\n",
    "        ind4 = bead[i]\n",
    "        x6, y6, z6 = get_coordinates(ind4)\n",
    "        \n",
    "l1, m1, n1 = dir_cosine(x4, y4, z4, x5, y5, z5)\n",
    "l2, m2, n2 = dir_cosine(x3, y3, z3, x6, y6, z6)\n",
    "print(l1, m1, n1, ind3)\n",
    "print(l2, m2, n2, ind4)"
   ]
  },
  {
   "cell_type": "code",
   "execution_count": 7,
   "id": "d403239a-c22c-4f7d-a179-0c02b2388478",
   "metadata": {},
   "outputs": [
    {
     "name": "stdout",
     "output_type": "stream",
     "text": [
      "0.669206547353948 -0.07824421344624177 -0.7389454919280496 1913\n",
      "0.47629136608791817 -0.6035017437401006 -0.6394780527060822 3359\n"
     ]
    }
   ],
   "source": [
    "x3, y3, z3 = get_points(x1, y1, z1, ll, mm, nn, 200)\n",
    "#print(x3, y3, z3)#force to be applied on residue 928## 2042\n",
    "\n",
    "x4, y4, z4 = get_points(x2, y2, z2, -ll, -mm, -nn, 200)\n",
    "\n",
    "for i in range(len(bead)):\n",
    "    if bead[i] == 1913:\n",
    "        ind3 = bead[i]\n",
    "        #print(ind3)\n",
    "        x5, y5, z5 = get_coordinates(ind3)\n",
    "        #print(x5, y5, z5)\n",
    "    if bead[i] == 3359:\n",
    "        ind4 = bead[i]\n",
    "        x6, y6, z6 = get_coordinates(ind4)\n",
    "        \n",
    "l1, m1, n1 = dir_cosine(x4, y4, z4, x5, y5, z5)\n",
    "l2, m2, n2 = dir_cosine(x3, y3, z3, x6, y6, z6)\n",
    "print(l1, m1, n1, ind3)\n",
    "print(l2, m2, n2, ind4)"
   ]
  },
  {
   "cell_type": "code",
   "execution_count": 8,
   "id": "8a4ec2bc-ba37-4bf9-b7a0-d105f7380e99",
   "metadata": {},
   "outputs": [
    {
     "name": "stdout",
     "output_type": "stream",
     "text": [
      "0.6287532649080606 -0.16980448454802038 -0.7588384339863362 2411\n",
      "0.4293822021671963 -0.6711243345477748 -0.6043368696677833 2855\n"
     ]
    }
   ],
   "source": [
    "x3, y3, z3 = get_points(x1, y1, z1, ll, mm, nn, 70)\n",
    "#print(x3, y3, z3)#force to be applied on residue 928## 2042\n",
    "\n",
    "x4, y4, z4 = get_points(x2, y2, z2, -ll, -mm, -nn, 70)\n",
    "\n",
    "for i in range(len(bead)):\n",
    "    if bead[i] == 2411:\n",
    "        ind3 = bead[i]\n",
    "        #print(ind3)\n",
    "        x5, y5, z5 = get_coordinates(ind3)\n",
    "        #print(x5, y5, z5)\n",
    "    if bead[i] == 2855:\n",
    "        ind4 = bead[i]\n",
    "        x6, y6, z6 = get_coordinates(ind4)\n",
    "        \n",
    "l1, m1, n1 = dir_cosine(x4, y4, z4, x5, y5, z5)\n",
    "l2, m2, n2 = dir_cosine(x3, y3, z3, x6, y6, z6)\n",
    "print(l1, m1, n1, ind3)\n",
    "print(l2, m2, n2, ind4)"
   ]
  },
  {
   "cell_type": "code",
   "execution_count": null,
   "id": "8a0caf00-b096-4429-98c5-640eb3a7fccb",
   "metadata": {},
   "outputs": [],
   "source": []
  }
 ],
 "metadata": {
  "kernelspec": {
   "display_name": "Python 3 (ipykernel)",
   "language": "python",
   "name": "python3"
  },
  "language_info": {
   "codemirror_mode": {
    "name": "ipython",
    "version": 3
   },
   "file_extension": ".py",
   "mimetype": "text/x-python",
   "name": "python",
   "nbconvert_exporter": "python",
   "pygments_lexer": "ipython3",
   "version": "3.9.12"
  }
 },
 "nbformat": 4,
 "nbformat_minor": 5
}
