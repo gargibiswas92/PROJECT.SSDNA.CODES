{
 "cells": [
  {
   "cell_type": "code",
   "execution_count": 1,
   "id": "9a9a7941-efb3-42ca-a048-df5796e7b9da",
   "metadata": {},
   "outputs": [
    {
     "name": "stdout",
     "output_type": "stream",
     "text": [
      "75.52997379848611\n",
      "0.6198934964838717 -0.06521943881003962 -0.7819708932040268 1340\n",
      "0.501224151922026 -0.5679649008061632 -0.6528324601169055 3943\n"
     ]
    }
   ],
   "source": [
    "import math\n",
    "inp1 = open(\"str.pdb\", \"r\")\n",
    "\n",
    "bead = []\n",
    "x_cord = []\n",
    "y_cord = []\n",
    "z_cord = []\n",
    "\n",
    "for lines in inp1:\n",
    "    a = lines[4:11]\n",
    "    b = lines[26:38]\n",
    "    c = lines[38:46]\n",
    "    d = lines[46:54]\n",
    "    \n",
    "    bead.append(int(a))\n",
    "    x_cord.append(float(b))\n",
    "    y_cord.append(float(c))\n",
    "    z_cord.append(float(d))\n",
    "    \n",
    "def get_coordinates(ind):\n",
    "    for k in range(len(bead)):\n",
    "        if bead[k] == ind:\n",
    "            l = x_cord[k]\n",
    "            m = y_cord[k]\n",
    "            n = z_cord[k]\n",
    "    return l, m, n\n",
    "def dir_cosine(x1, y1, z1, x2, y2, z2):\n",
    "    r1 = (x1 - x2)\n",
    "    r2 = (y1 - y2)\n",
    "    r3 = (z1 - z2)\n",
    "    r_m = math.sqrt(r1**2 + r2**2 + r3**2)\n",
    "    return (r1/r_m), (r2/r_m), (r3/r_m)\n",
    "\n",
    "def distance(x1, y1, z1, x2, y2, z2):\n",
    "    r1 = (x1 - x2)\n",
    "    r2 = (y1 - y2)\n",
    "    r3 = (z1 - z2)\n",
    "    r_m = math.sqrt(r1**2 + r2**2 + r3**2)\n",
    "    return (r_m)\n",
    "\n",
    "for i in range(len(bead)):\n",
    "    if bead[i] == 852:\n",
    "        ind1 = bead[i]\n",
    "        x1, y1, z1 = get_coordinates(ind1)\n",
    "    if bead[i] == 1220:\n",
    "        ind2 = bead[i]\n",
    "        x2, y2, z2 = get_coordinates(ind2)\n",
    "ll, mm, nn = dir_cosine(x1, y1, z1, x2, y2, z2)\n",
    "dd = distance(x1, y1, z1, x2, y2, z2)\n",
    "#print(ll, mm, nn)\n",
    "\n",
    "def get_points(x1, y1, z1, l, m, n, dist):\n",
    "    x2 = x1 + dist*l\n",
    "    y2 = y1 + dist*m\n",
    "    z2 = z1 + dist*n\n",
    "    return x2, y2, z2\n",
    "print(dd)\n",
    "\n",
    "\n",
    "x3, y3, z3 = get_points(x1, y1, z1, ll, mm, nn, 400)\n",
    "#print(x3, y3, z3)#force to be applied on residue 928## 2042\n",
    "\n",
    "x4, y4, z4 = get_points(x2, y2, z2, -ll, -mm, -nn, 400)\n",
    "\n",
    "for i in range(len(bead)):\n",
    "    if bead[i] == 1340:\n",
    "        ind3 = bead[i]\n",
    "        #print(ind3)\n",
    "        x5, y5, z5 = get_coordinates(ind3)\n",
    "        #print(x5, y5, z5)\n",
    "    if bead[i] == 3943:\n",
    "        ind4 = bead[i]\n",
    "        x6, y6, z6 = get_coordinates(ind4)\n",
    "        \n",
    "l1, m1, n1 = dir_cosine(x4, y4, z4, x5, y5, z5)\n",
    "l2, m2, n2 = dir_cosine(x3, y3, z3, x6, y6, z6)\n",
    "print(l1, m1, n1, ind3)\n",
    "print(l2, m2, n2, ind4)"
   ]
  },
  {
   "cell_type": "code",
   "execution_count": 4,
   "id": "8372a0b0-0eb6-4fb0-8b25-e5dc7483fdeb",
   "metadata": {},
   "outputs": [
    {
     "name": "stdout",
     "output_type": "stream",
     "text": [
      "0.6160140306643406 -0.05602716430037747 -0.7857402057201424 1640\n",
      "0.49570123822614 -0.5640535967752047 -0.6603967159109941 3693\n"
     ]
    }
   ],
   "source": [
    "x3, y3, z3 = get_points(x1, y1, z1, ll, mm, nn, 320)\n",
    "#print(x3, y3, z3)#force to be applied on residue 928## 2042\n",
    "\n",
    "x4, y4, z4 = get_points(x2, y2, z2, -ll, -mm, -nn, 320)\n",
    "\n",
    "for i in range(len(bead)):\n",
    "    if bead[i] == 1640:\n",
    "        ind3 = bead[i]\n",
    "        #print(ind3)\n",
    "        x5, y5, z5 = get_coordinates(ind3)\n",
    "        #print(x5, y5, z5)\n",
    "    if bead[i] == 3693:\n",
    "        ind4 = bead[i]\n",
    "        x6, y6, z6 = get_coordinates(ind4)\n",
    "        \n",
    "l1, m1, n1 = dir_cosine(x4, y4, z4, x5, y5, z5)\n",
    "l2, m2, n2 = dir_cosine(x3, y3, z3, x6, y6, z6)\n",
    "print(l1, m1, n1, ind3)\n",
    "print(l2, m2, n2, ind4)"
   ]
  },
  {
   "cell_type": "code",
   "execution_count": 5,
   "id": "c9844b11-cc27-4545-9caa-168ec02f7b46",
   "metadata": {},
   "outputs": [
    {
     "name": "stdout",
     "output_type": "stream",
     "text": [
      "0.6291477201249923 -0.03425838490643717 -0.7765304303922201 1940\n",
      "0.49703088715655225 -0.5780801095416471 -0.647134981410129 3443\n"
     ]
    }
   ],
   "source": [
    "x3, y3, z3 = get_points(x1, y1, z1, ll, mm, nn, 240)\n",
    "#print(x3, y3, z3)#force to be applied on residue 928## 2042\n",
    "\n",
    "x4, y4, z4 = get_points(x2, y2, z2, -ll, -mm, -nn, 240)\n",
    "\n",
    "for i in range(len(bead)):\n",
    "    if bead[i] == 1940:\n",
    "        ind3 = bead[i]\n",
    "        #print(ind3)\n",
    "        x5, y5, z5 = get_coordinates(ind3)\n",
    "        #print(x5, y5, z5)\n",
    "    if bead[i] == 3443:\n",
    "        ind4 = bead[i]\n",
    "        x6, y6, z6 = get_coordinates(ind4)\n",
    "        \n",
    "l1, m1, n1 = dir_cosine(x4, y4, z4, x5, y5, z5)\n",
    "l2, m2, n2 = dir_cosine(x3, y3, z3, x6, y6, z6)\n",
    "print(l1, m1, n1, ind3)\n",
    "print(l2, m2, n2, ind4)"
   ]
  },
  {
   "cell_type": "code",
   "execution_count": 6,
   "id": "04be42f4-3d41-48e0-b215-2634e7c31946",
   "metadata": {},
   "outputs": [
    {
     "name": "stdout",
     "output_type": "stream",
     "text": [
      "0.6485379838486862 -0.012463736583186896 -0.761080244636442 2240\n",
      "0.5109588791733508 -0.576858858591676 -0.6373028173939151 3193\n"
     ]
    }
   ],
   "source": [
    "x3, y3, z3 = get_points(x1, y1, z1, ll, mm, nn, 160)\n",
    "#print(x3, y3, z3)#force to be applied on residue 928## 2042\n",
    "\n",
    "x4, y4, z4 = get_points(x2, y2, z2, -ll, -mm, -nn, 160)\n",
    "\n",
    "for i in range(len(bead)):\n",
    "    if bead[i] == 2240:\n",
    "        ind3 = bead[i]\n",
    "        #print(ind3)\n",
    "        x5, y5, z5 = get_coordinates(ind3)\n",
    "        #print(x5, y5, z5)\n",
    "    if bead[i] == 3193:\n",
    "        ind4 = bead[i]\n",
    "        x6, y6, z6 = get_coordinates(ind4)\n",
    "        \n",
    "l1, m1, n1 = dir_cosine(x4, y4, z4, x5, y5, z5)\n",
    "l2, m2, n2 = dir_cosine(x3, y3, z3, x6, y6, z6)\n",
    "print(l1, m1, n1, ind3)\n",
    "print(l2, m2, n2, ind4)"
   ]
  },
  {
   "cell_type": "code",
   "execution_count": 8,
   "id": "e77177b9-757a-42f7-aa8a-a4af29b4f3a4",
   "metadata": {},
   "outputs": [
    {
     "name": "stdout",
     "output_type": "stream",
     "text": [
      "0.6530878225827126 0.04162295979783188 -0.7561374380440632 2520\n",
      "0.49337105519635766 -0.5890553056685065 -0.6399991005917236 2943\n"
     ]
    }
   ],
   "source": [
    "x3, y3, z3 = get_points(x1, y1, z1, ll, mm, nn, 80)\n",
    "#print(x3, y3, z3)#force to be applied on residue 928## 2042\n",
    "\n",
    "x4, y4, z4 = get_points(x2, y2, z2, -ll, -mm, -nn, 80)\n",
    "\n",
    "for i in range(len(bead)):\n",
    "    if bead[i] == 2520:\n",
    "        ind3 = bead[i]\n",
    "        #print(ind3)\n",
    "        x5, y5, z5 = get_coordinates(ind3)\n",
    "        #print(x5, y5, z5)\n",
    "    if bead[i] == 2943:\n",
    "        ind4 = bead[i]\n",
    "        x6, y6, z6 = get_coordinates(ind4)\n",
    "        \n",
    "l1, m1, n1 = dir_cosine(x4, y4, z4, x5, y5, z5)\n",
    "l2, m2, n2 = dir_cosine(x3, y3, z3, x6, y6, z6)\n",
    "print(l1, m1, n1, ind3)\n",
    "print(l2, m2, n2, ind4)"
   ]
  },
  {
   "cell_type": "code",
   "execution_count": null,
   "id": "c9b84ccb-2153-4e1e-863d-140907114e1f",
   "metadata": {},
   "outputs": [],
   "source": []
  }
 ],
 "metadata": {
  "kernelspec": {
   "display_name": "Python 3 (ipykernel)",
   "language": "python",
   "name": "python3"
  },
  "language_info": {
   "codemirror_mode": {
    "name": "ipython",
    "version": 3
   },
   "file_extension": ".py",
   "mimetype": "text/x-python",
   "name": "python",
   "nbconvert_exporter": "python",
   "pygments_lexer": "ipython3",
   "version": "3.9.12"
  }
 },
 "nbformat": 4,
 "nbformat_minor": 5
}
