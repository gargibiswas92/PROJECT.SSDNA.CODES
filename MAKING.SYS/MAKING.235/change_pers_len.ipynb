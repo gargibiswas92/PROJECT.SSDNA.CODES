{
 "cells": [
  {
   "cell_type": "code",
   "execution_count": 5,
   "id": "b61fc0dd-35d0-4c20-bf10-039a0fe1db31",
   "metadata": {},
   "outputs": [],
   "source": [
    "inp1 = open(\"test1.dat\")\n",
    "\n",
    "di = []\n",
    "atom1 = []\n",
    "atom2 = []\n",
    "atom3 = []\n",
    "atom4 = []\n",
    "ang = []\n",
    "\n",
    "out1 = open(\"change_pers.dat\", \"w\")\n",
    "\n",
    "for line in inp1:\n",
    "    arr = line.split()\n",
    "    di.append(int(arr[0]))\n",
    "    atom1.append(int(arr[1]))\n",
    "    atom2.append(int(arr[2]))\n",
    "    atom3.append(int(arr[3]))\n",
    "    atom4.append(int(arr[4]))\n",
    "    ang.append(float(arr[5]))\n",
    "    \n",
    "m = 0.0    \n",
    "for i in range(len(di)):    \n",
    "    ss = '{:>5d}{:>5d}{:>5d}{:>5d}{:>5d}{:>8.3f}{:>8.3f}{:>8.3f}{:8.3f}{}'.format(di[i], atom1[i], atom2[i], atom3[i], atom4[i], ang[i], m, m, m, \"\\n\")\n",
    "    out1.writelines(ss)\n",
    "inp1.close()\n",
    "out1.close()\n",
    "    "
   ]
  },
  {
   "cell_type": "code",
   "execution_count": null,
   "id": "e26068e6-bc0b-4f58-95b5-b5cbdd3fbe19",
   "metadata": {},
   "outputs": [],
   "source": []
  }
 ],
 "metadata": {
  "kernelspec": {
   "display_name": "Python 3 (ipykernel)",
   "language": "python",
   "name": "python3"
  },
  "language_info": {
   "codemirror_mode": {
    "name": "ipython",
    "version": 3
   },
   "file_extension": ".py",
   "mimetype": "text/x-python",
   "name": "python",
   "nbconvert_exporter": "python",
   "pygments_lexer": "ipython3",
   "version": "3.9.12"
  }
 },
 "nbformat": 4,
 "nbformat_minor": 5
}
