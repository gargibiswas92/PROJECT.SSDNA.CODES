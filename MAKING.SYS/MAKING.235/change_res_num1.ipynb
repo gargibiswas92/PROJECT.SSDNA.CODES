{
 "cells": [
  {
   "cell_type": "code",
   "execution_count": 5,
   "id": "33837051-cbd8-4af3-944e-d8b38461d5f1",
   "metadata": {},
   "outputs": [],
   "source": [
    "import sys\n",
    "import math\n",
    "import statistics\n",
    "inp1 = open(\"dna695_723_60_ext.pdb\", \"r\")\n",
    "out1 = open(\"dna_len1_1.pdb\", \"w\")\n",
    "at_num = []\n",
    "res_num = []\n",
    "new_at_num = []\n",
    "new_res_num = []\n",
    "cp1 = []\n",
    "cp2 = []\n",
    "cp3 = []\n",
    "count = 0\n",
    "\n",
    "for line in inp1:\n",
    "    c1 = line[0:6]\n",
    "    a = line[6:10]\n",
    "    c2 = line[10:21]\n",
    "    a2 = line[21:25]\n",
    "    c3 = line[25:-1]\n",
    "    cp1.append(c1)\n",
    "    at_num.append(int(a))\n",
    "    cp2.append(c2)\n",
    "    cp3.append(c3)\n",
    "    res_num.append(int(a2))\n",
    "    count = count + 1\n",
    "    \n",
    "for i in range(count):\n",
    "    b1 = at_num[i] + 84\n",
    "    b2 = res_num[i] + 28\n",
    "    new_at_num.append(b1)\n",
    "    new_res_num.append(b2)\n",
    "    ss = '{}{:>4s}{}{:>4s}{}{}'.format(cp1[i], str(new_at_num[i]), cp2[i], str(new_res_num[i]), cp3[i], \"\\n\")\n",
    "    out1.writelines(ss)\n",
    "    \n",
    "out1.close()\n",
    "inp1.close()\n",
    "\n",
    "    \n",
    "    "
   ]
  },
  {
   "cell_type": "code",
   "execution_count": null,
   "id": "ad56686a-6099-4f0d-88b9-bdaa806359f6",
   "metadata": {},
   "outputs": [],
   "source": []
  }
 ],
 "metadata": {
  "kernelspec": {
   "display_name": "Python 3 (ipykernel)",
   "language": "python",
   "name": "python3"
  },
  "language_info": {
   "codemirror_mode": {
    "name": "ipython",
    "version": 3
   },
   "file_extension": ".py",
   "mimetype": "text/x-python",
   "name": "python",
   "nbconvert_exporter": "python",
   "pygments_lexer": "ipython3",
   "version": "3.9.12"
  }
 },
 "nbformat": 4,
 "nbformat_minor": 5
}
