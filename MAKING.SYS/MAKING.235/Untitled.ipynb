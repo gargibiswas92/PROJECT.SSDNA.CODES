{
 "cells": [
  {
   "cell_type": "code",
   "execution_count": 2,
   "id": "6283798c-a7a3-4ad6-b744-ab12e98852ad",
   "metadata": {},
   "outputs": [],
   "source": [
    "import sys\n",
    "import math\n",
    "import statistics\n",
    "inp1 = open(\"dna695_723_2.pdb\", \"r\")\n",
    "out1 = open(\"dna_len1_2.pdb\", \"w\")\n",
    "at_num = []\n",
    "res_num = []\n",
    "new_at_num = []\n",
    "new_res_num = []\n",
    "cp1 = []\n",
    "cp2 = []\n",
    "cp3 = []\n",
    "count = 0\n",
    "\n",
    "for line in inp1:\n",
    "    c1 = line[0:6]\n",
    "    a = line[6:11]\n",
    "    c2 = line[11:22]\n",
    "    a2 = line[22:26]\n",
    "    c3 = line[26:-1]\n",
    "    cp1.append(c1)\n",
    "    at_num.append(int(a))\n",
    "    cp2.append(c2)\n",
    "    cp3.append(c3)\n",
    "    res_num.append(int(a2))\n",
    "    count = count + 1\n",
    "    \n",
    "for i in range(count):\n",
    "    b1 = at_num[i] + 168\n",
    "    b2 = res_num[i] + 56\n",
    "    new_at_num.append(b1)\n",
    "    new_res_num.append(b2)\n",
    "    ss = '{}{:>4s}{}{:>4s}{}{}'.format(cp1[i], str(new_at_num[i]), cp2[i], str(new_res_num[i]), cp3[i], \"\\n\")\n",
    "    out1.writelines(ss)\n",
    "    \n",
    "out1.close()\n",
    "inp1.close()\n",
    "\n",
    "    \n",
    "    "
   ]
  },
  {
   "cell_type": "code",
   "execution_count": null,
   "id": "b4a9d12b-5cfa-4bcc-86f7-c18ccd088946",
   "metadata": {},
   "outputs": [],
   "source": []
  }
 ],
 "metadata": {
  "kernelspec": {
   "display_name": "Python 3 (ipykernel)",
   "language": "python",
   "name": "python3"
  },
  "language_info": {
   "codemirror_mode": {
    "name": "ipython",
    "version": 3
   },
   "file_extension": ".py",
   "mimetype": "text/x-python",
   "name": "python",
   "nbconvert_exporter": "python",
   "pygments_lexer": "ipython3",
   "version": "3.9.12"
  }
 },
 "nbformat": 4,
 "nbformat_minor": 5
}
