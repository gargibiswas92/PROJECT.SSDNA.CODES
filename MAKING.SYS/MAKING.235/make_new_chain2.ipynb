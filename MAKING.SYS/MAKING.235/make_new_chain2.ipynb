{
 "cells": [
  {
   "cell_type": "code",
   "execution_count": 5,
   "id": "f9ff9b9a-e162-4eee-971d-154b38d42e42",
   "metadata": {},
   "outputs": [],
   "source": [
    "import sys\n",
    "import math\n",
    "import statistics\n",
    "inp1 = open(\"dna695_723_60_ext.pdb\", \"r\")\n",
    "out1 = open(\"dna695_723_ext22.pdb\", \"w\")\n",
    "at_num = []\n",
    "cord_x = []\n",
    "cord_y = []\n",
    "cord_z = []\n",
    "res_name = []\n",
    "res_num = []\n",
    "count = 0\n",
    "cord_x_mod = []\n",
    "cord_y_mod = []\n",
    "cord_z_mod = []\n",
    "\n",
    "for line in inp1:\n",
    "    a = line[6:10]\n",
    "    a1 = line[13:14]\n",
    "    a2 = line[20:25]\n",
    "    b = line[26:38]\n",
    "    c = line[38:46]\n",
    "    d = line[46:54]\n",
    "    at_num.append(int(a))\n",
    "    res_name.append(a1)\n",
    "    res_num.append(int(a2))\n",
    "    cord_x.append(float(b))\n",
    "    cord_y.append(float(c))\n",
    "    cord_z.append(float(d))\n",
    "    count = count + 1\n",
    "    \n",
    "for i in range(count):\n",
    "    n1 = cord_x[i] - 50.822\n",
    "    n2 = cord_y[i] - 26.561\n",
    "    n3 = cord_z[i] - 98.454\n",
    "    cord_x_mod.append(float(n1))\n",
    "    cord_y_mod.append(float(n2))\n",
    "    cord_z_mod.append(float(n3))\n",
    "    ss = '{}{:>6s}{:>4s}{}{:>6s}{:>12.3f}{:>8.3f}{:>8.2f}{}{}{}'.format('ATOM', str(at_num[i]), str(res_name[i]),'    C', str(res_num[i]), cord_x_mod[i], cord_y_mod[i], cord_z_mod[i], '  1.00', '  0.00', \"\\n\")\n",
    "    out1.writelines(ss)\n",
    "    \n",
    "inp1.close()\n",
    "out1.close()"
   ]
  },
  {
   "cell_type": "code",
   "execution_count": null,
   "id": "0bc1dd96-f0aa-4ebe-99ce-f9773672627e",
   "metadata": {},
   "outputs": [],
   "source": []
  }
 ],
 "metadata": {
  "kernelspec": {
   "display_name": "Python 3 (ipykernel)",
   "language": "python",
   "name": "python3"
  },
  "language_info": {
   "codemirror_mode": {
    "name": "ipython",
    "version": 3
   },
   "file_extension": ".py",
   "mimetype": "text/x-python",
   "name": "python",
   "nbconvert_exporter": "python",
   "pygments_lexer": "ipython3",
   "version": "3.9.12"
  }
 },
 "nbformat": 4,
 "nbformat_minor": 5
}
