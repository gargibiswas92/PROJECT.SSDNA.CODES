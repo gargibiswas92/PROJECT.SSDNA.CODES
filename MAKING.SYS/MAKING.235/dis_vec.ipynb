{
 "cells": [
  {
   "cell_type": "code",
   "execution_count": 9,
   "id": "e09c5325-1982-4080-a9a7-7725e76cf74b",
   "metadata": {},
   "outputs": [
    {
     "name": "stdout",
     "output_type": "stream",
     "text": [
      "-32.422999999999995 -17.187 99.015\n"
     ]
    }
   ],
   "source": [
    "import sys\n",
    "import math\n",
    "import statistics\n",
    "inp1 = open(\"dna726_754.pdb\", \"r\")\n",
    "res_num = []\n",
    "cord_x = []\n",
    "cord_y = []\n",
    "cord_z = []\n",
    "res_name = []\n",
    "b_len = []\n",
    "b_ang1 = []\n",
    "b_ang2 = []\n",
    "b_di = []\n",
    "count = 0\n",
    "\n",
    "for line in inp1:\n",
    "    a = line[7:11]\n",
    "    a1 = line[14:15]\n",
    "    b = line[26:38]\n",
    "    c = line[38:46]\n",
    "    d = line[46:54]\n",
    "    res_num.append(int(a))\n",
    "    res_name.append(a1)\n",
    "    cord_x.append(float(b))\n",
    "    cord_y.append(float(c))\n",
    "    cord_z.append(float(d))\n",
    "    count = count + 1\n",
    "\n",
    "\n",
    "for i in range(count):\n",
    "    for j in range(count):\n",
    "        if res_num[i] == 1436 and res_num[j] == 1517:\n",
    "            x1 = cord_x[i]\n",
    "            y1 = cord_y[i]\n",
    "            z1 = cord_z[i]\n",
    "\n",
    "            x2 = cord_x[j]\n",
    "            y2 = cord_y[j]\n",
    "            z2 = cord_z[j]\n",
    "            \n",
    "            r1x = x2 - x1\n",
    "            r1y = y2 - y1\n",
    "            r1z = z2 - z1\n",
    "print(r1x, r1y, r1z)\n"
   ]
  },
  {
   "cell_type": "code",
   "execution_count": null,
   "id": "e0ad8e95-95a0-4bd6-9ea4-a244745269e9",
   "metadata": {},
   "outputs": [],
   "source": []
  }
 ],
 "metadata": {
  "kernelspec": {
   "display_name": "Python 3 (ipykernel)",
   "language": "python",
   "name": "python3"
  },
  "language_info": {
   "codemirror_mode": {
    "name": "ipython",
    "version": 3
   },
   "file_extension": ".py",
   "mimetype": "text/x-python",
   "name": "python",
   "nbconvert_exporter": "python",
   "pygments_lexer": "ipython3",
   "version": "3.9.12"
  }
 },
 "nbformat": 4,
 "nbformat_minor": 5
}
