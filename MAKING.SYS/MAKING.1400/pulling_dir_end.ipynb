{
 "cells": [
  {
   "cell_type": "code",
   "execution_count": 7,
   "id": "30bcd616-dd31-4ca6-ac8e-8ff5bea6df92",
   "metadata": {},
   "outputs": [
    {
     "name": "stdout",
     "output_type": "stream",
     "text": [
      "0.0378492746265617 0.6711360973505733 -0.740367321836455 1340\n",
      "0.7063888371774559 -0.7078191251490759 -0.002626172933871861 5536\n"
     ]
    },
    {
     "data": {
      "text/plain": [
       "1323.7492546804322"
      ]
     },
     "execution_count": 7,
     "metadata": {},
     "output_type": "execute_result"
    }
   ],
   "source": [
    "import math\n",
    "inp1 = open(\"snap2.pdb\", \"r\")\n",
    "\n",
    "bead = []\n",
    "x_cord = []\n",
    "y_cord = []\n",
    "z_cord = []\n",
    "\n",
    "for lines in inp1:\n",
    "    a = lines[4:11]\n",
    "    b = lines[26:38]\n",
    "    c = lines[38:46]\n",
    "    d = lines[46:54]\n",
    "    \n",
    "    bead.append(int(a))\n",
    "    x_cord.append(float(b))\n",
    "    y_cord.append(float(c))\n",
    "    z_cord.append(float(d))\n",
    "    \n",
    "def get_coordinates(ind):\n",
    "    for k in range(len(bead)):\n",
    "        if bead[k] == ind:\n",
    "            l = x_cord[k]\n",
    "            m = y_cord[k]\n",
    "            n = z_cord[k]\n",
    "    return l, m, n\n",
    "def dir_cosine(x1, y1, z1, x2, y2, z2):\n",
    "    r1 = (x1 - x2)\n",
    "    r2 = (y1 - y2)\n",
    "    r3 = (z1 - z2)\n",
    "    r_m = math.sqrt(r1**2 + r2**2 + r3**2)\n",
    "    return (r1/r_m), (r2/r_m), (r3/r_m)\n",
    "\n",
    "def distance(x1, y1, z1, x2, y2, z2):\n",
    "    r1 = (x1 - x2)\n",
    "    r2 = (y1 - y2)\n",
    "    r3 = (z1 - z2)\n",
    "    r_m = math.sqrt(r1**2 + r2**2 + r3**2)\n",
    "    return (r_m)\n",
    "\n",
    "for i in range(len(bead)):\n",
    "    if bead[i] == 852:\n",
    "        ind1 = bead[i]\n",
    "        x1, y1, z1 = get_coordinates(ind1)\n",
    "    if bead[i] == 1220:\n",
    "        ind2 = bead[i]\n",
    "        x2, y2, z2 = get_coordinates(ind2)\n",
    "        ll, mm, nn = dir_cosine(x1, y1, z1, x2, y2, z2)\n",
    "        dd = distance(x1, y1, z1, x2, y2, z2)\n",
    "#print(ll, mm, nn)\n",
    "\n",
    "def get_points(x1, y1, z1, l, m, n, dist):\n",
    "    x2 = x1 + dist*l\n",
    "    y2 = y1 + dist*m\n",
    "    z2 = z1 + dist*n\n",
    "    return x2, y2, z2\n",
    "\n",
    "x3, y3, z3 = get_points(x1, y1, z1, ll, mm, nn, 700)\n",
    "#print(x3, y3, z3)#force to be applied on residue 928## 2042\n",
    "\n",
    "x4, y4, z4 = get_points(x2, y2, z2, -ll, -mm, -nn, 700)\n",
    "#print(x3, y3, z3)#force to be applied on residue 928## 1340\n",
    "\n",
    "for i in range(len(bead)):\n",
    "    if bead[i] == 1340:\n",
    "        ind3 = bead[i]\n",
    "        #print(ind3)\n",
    "        x5, y5, z5 = get_coordinates(ind3)\n",
    "        #print(x5, y5, z5)\n",
    "    if bead[i] == 5536:\n",
    "        ind4 = bead[i]\n",
    "        x6, y6, z6 = get_coordinates(ind4)\n",
    "        \n",
    "l1, m1, n1 = dir_cosine(x4, y4, z4, x5, y5, z5)\n",
    "l2, m2, n2 = dir_cosine(x3, y3, z3, x6, y6, z6)\n",
    "print(l1, m1, n1, ind3)\n",
    "print(l2, m2, n2, ind4)\n",
    "dir_cosine(x5, y5, z5, x6, y6, z6)\n",
    "distance(x5, y5, z5, x6, y6, z6)"
   ]
  },
  {
   "cell_type": "code",
   "execution_count": 2,
   "id": "09420282-5929-44bb-be9d-52e67fc2627c",
   "metadata": {},
   "outputs": [
    {
     "name": "stdout",
     "output_type": "stream",
     "text": [
      "0.7597498014632328 -0.12515412731480613 -0.6380569595205805 3239\n",
      "0.45741397323035005 -0.31128918274849166 -0.8329894968109746 3677\n"
     ]
    }
   ],
   "source": [
    "x3, y3, z3 = get_points(x1, y1, z1, ll, mm, nn, 50)\n",
    "#print(x3, y3, z3)#force to be applied on residue 928## 2042\n",
    "\n",
    "x4, y4, z4 = get_points(x2, y2, z2, -ll, -mm, -nn, 50)\n",
    "\n",
    "for i in range(len(bead)):\n",
    "    if bead[i] == 3239:\n",
    "        ind3 = bead[i]\n",
    "        #print(ind3)\n",
    "        x5, y5, z5 = get_coordinates(ind3)\n",
    "        #print(x5, y5, z5)\n",
    "    if bead[i] == 3677:\n",
    "        ind4 = bead[i]\n",
    "        x6, y6, z6 = get_coordinates(ind4)\n",
    "        \n",
    "l1, m1, n1 = dir_cosine(x4, y4, z4, x5, y5, z5)\n",
    "l2, m2, n2 = dir_cosine(x3, y3, z3, x6, y6, z6)\n",
    "print(l1, m1, n1, ind3)\n",
    "print(l2, m2, n2, ind4)"
   ]
  },
  {
   "cell_type": "code",
   "execution_count": 3,
   "id": "3e1278f0-9e74-4f9d-a346-da9c35dcec15",
   "metadata": {},
   "outputs": [
    {
     "name": "stdout",
     "output_type": "stream",
     "text": [
      "0.5800417372153291 -0.3593570154485757 -0.7310363318851638 2771\n",
      "0.5394144351047754 -0.2794812842328267 -0.7943061619830013 4130\n"
     ]
    }
   ],
   "source": [
    "x3, y3, z3 = get_points(x1, y1, z1, ll, mm, nn, 150)\n",
    "#print(x3, y3, z3)#force to be applied on residue 928## 2042\n",
    "\n",
    "x4, y4, z4 = get_points(x2, y2, z2, -ll, -mm, -nn, 150)\n",
    "\n",
    "for i in range(len(bead)):\n",
    "    if bead[i] == 2771:\n",
    "        ind3 = bead[i]\n",
    "        #print(ind3)\n",
    "        x5, y5, z5 = get_coordinates(ind3)\n",
    "        #print(x5, y5, z5)\n",
    "    if bead[i] == 4130:\n",
    "        ind4 = bead[i]\n",
    "        x6, y6, z6 = get_coordinates(ind4)\n",
    "        \n",
    "l1, m1, n1 = dir_cosine(x4, y4, z4, x5, y5, z5)\n",
    "l2, m2, n2 = dir_cosine(x3, y3, z3, x6, y6, z6)\n",
    "print(l1, m1, n1, ind3)\n",
    "print(l2, m2, n2, ind4)"
   ]
  },
  {
   "cell_type": "code",
   "execution_count": null,
   "id": "3ea56007-1972-431d-bf2b-7f72cdb483d5",
   "metadata": {},
   "outputs": [],
   "source": []
  }
 ],
 "metadata": {
  "kernelspec": {
   "display_name": "Python 3 (ipykernel)",
   "language": "python",
   "name": "python3"
  },
  "language_info": {
   "codemirror_mode": {
    "name": "ipython",
    "version": 3
   },
   "file_extension": ".py",
   "mimetype": "text/x-python",
   "name": "python",
   "nbconvert_exporter": "python",
   "pygments_lexer": "ipython3",
   "version": "3.9.12"
  }
 },
 "nbformat": 4,
 "nbformat_minor": 5
}
