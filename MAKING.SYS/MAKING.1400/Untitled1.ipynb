{
 "cells": [
  {
   "cell_type": "code",
   "execution_count": 16,
   "id": "24312cfa-eaf7-4d53-a106-f25e10432a7c",
   "metadata": {},
   "outputs": [],
   "source": [
    "p2 = [655.622, -20.126, -19.779]\n",
    "s2 = [655.768, -18.515, -19.817]\n",
    "b2 = [654.582, -16.686, -17.212]\n",
    "\n",
    "p1 = [654.108, -18.342, -25.778]\n",
    "s1 = [653.045, -18.806, -25.413]\n",
    "b1 = [651.961, -21.850, -27.013] \n",
    "\n",
    "p3 = []\n",
    "for i in range(3):\n",
    "    a = p2[i] + (p2[i] - p1[i])\n",
    "    p3.append(a)\n",
    "    \n",
    "s3 = []\n",
    "for i in range(3):\n",
    "    b = s2[i] + (s2[i] - s1[i])\n",
    "    s3.append(b)\n",
    "    \n",
    "b3 = []\n",
    "for i in range(3):\n",
    "    c = b2[i] + (b2[i] - b1[i])\n",
    "    b3.append(c)"
   ]
  },
  {
   "cell_type": "code",
   "execution_count": 17,
   "id": "f748e25d-2d43-4615-b92c-afec43044c68",
   "metadata": {},
   "outputs": [
    {
     "data": {
      "text/plain": [
       "[657.136, -21.910000000000004, -13.780000000000001]"
      ]
     },
     "execution_count": 17,
     "metadata": {},
     "output_type": "execute_result"
    }
   ],
   "source": [
    "p3"
   ]
  },
  {
   "cell_type": "code",
   "execution_count": 18,
   "id": "c5b2e4d1-7f46-4de0-97fd-f3fbd4f5e7a5",
   "metadata": {},
   "outputs": [
    {
     "data": {
      "text/plain": [
       "[658.4910000000001, -18.224, -14.221]"
      ]
     },
     "execution_count": 18,
     "metadata": {},
     "output_type": "execute_result"
    }
   ],
   "source": [
    "s3"
   ]
  },
  {
   "cell_type": "code",
   "execution_count": 19,
   "id": "b76cd5ea-b403-4361-9ad7-5c8026f9dd3a",
   "metadata": {},
   "outputs": [
    {
     "data": {
      "text/plain": [
       "[657.203, -11.521999999999998, -7.410999999999998]"
      ]
     },
     "execution_count": 19,
     "metadata": {},
     "output_type": "execute_result"
    }
   ],
   "source": [
    "b3"
   ]
  },
  {
   "cell_type": "code",
   "execution_count": null,
   "id": "5a767ad6-5251-4d7f-aedb-af1c50fc1f6b",
   "metadata": {},
   "outputs": [],
   "source": []
  }
 ],
 "metadata": {
  "kernelspec": {
   "display_name": "Python 3 (ipykernel)",
   "language": "python",
   "name": "python3"
  },
  "language_info": {
   "codemirror_mode": {
    "name": "ipython",
    "version": 3
   },
   "file_extension": ".py",
   "mimetype": "text/x-python",
   "name": "python",
   "nbconvert_exporter": "python",
   "pygments_lexer": "ipython3",
   "version": "3.9.12"
  }
 },
 "nbformat": 4,
 "nbformat_minor": 5
}
