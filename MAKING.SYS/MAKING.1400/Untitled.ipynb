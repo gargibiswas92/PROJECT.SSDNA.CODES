{
 "cells": [
  {
   "cell_type": "code",
   "execution_count": 13,
   "id": "b66b6e74-6675-4fbe-b1b4-bd45046ff2df",
   "metadata": {},
   "outputs": [
    {
     "name": "stdout",
     "output_type": "stream",
     "text": [
      "0.001422471741491579 0.9053223947361135 -0.4247226602895273 1340\n",
      "0.6413421487549708 -0.7561054659662904 0.13032564047897824 5539\n"
     ]
    },
    {
     "data": {
      "text/plain": [
       "1273.2318220504858"
      ]
     },
     "execution_count": 13,
     "metadata": {},
     "output_type": "execute_result"
    }
   ],
   "source": [
    "import math\n",
    "inp1 = open(\"pull4.pdb\", \"r\")\n",
    "\n",
    "bead = []\n",
    "x_cord = []\n",
    "y_cord = []\n",
    "z_cord = []\n",
    "\n",
    "for lines in inp1:\n",
    "    a = lines[4:11]\n",
    "    b = lines[26:38]\n",
    "    c = lines[38:46]\n",
    "    d = lines[46:54]\n",
    "    \n",
    "    bead.append(int(a))\n",
    "    x_cord.append(float(b))\n",
    "    y_cord.append(float(c))\n",
    "    z_cord.append(float(d))\n",
    "    \n",
    "def get_coordinates(ind):\n",
    "    for k in range(len(bead)):\n",
    "        if bead[k] == ind:\n",
    "            l = x_cord[k]\n",
    "            m = y_cord[k]\n",
    "            n = z_cord[k]\n",
    "    return l, m, n\n",
    "def dir_cosine(x1, y1, z1, x2, y2, z2):\n",
    "    r1 = (x1 - x2)\n",
    "    r2 = (y1 - y2)\n",
    "    r3 = (z1 - z2)\n",
    "    r_m = math.sqrt(r1**2 + r2**2 + r3**2)\n",
    "    return (r1/r_m), (r2/r_m), (r3/r_m)\n",
    "\n",
    "def distance(x1, y1, z1, x2, y2, z2):\n",
    "    r1 = (x1 - x2)\n",
    "    r2 = (y1 - y2)\n",
    "    r3 = (z1 - z2)\n",
    "    r_m = math.sqrt(r1**2 + r2**2 + r3**2)\n",
    "    return (r_m)\n",
    "\n",
    "for i in range(len(bead)):\n",
    "    if bead[i] == 852:\n",
    "        ind1 = bead[i]\n",
    "        x1, y1, z1 = get_coordinates(ind1)\n",
    "    if bead[i] == 1220:\n",
    "        ind2 = bead[i]\n",
    "        x2, y2, z2 = get_coordinates(ind2)\n",
    "        ll, mm, nn = dir_cosine(x1, y1, z1, x2, y2, z2)\n",
    "        dd = distance(x1, y1, z1, x2, y2, z2)\n",
    "#print(ll, mm, nn)\n",
    "\n",
    "def get_points(x1, y1, z1, l, m, n, dist):\n",
    "    x2 = x1 + dist*l\n",
    "    y2 = y1 + dist*m\n",
    "    z2 = z1 + dist*n\n",
    "    return x2, y2, z2\n",
    "\n",
    "x3, y3, z3 = get_points(x1, y1, z1, ll, mm, nn, 700)\n",
    "#print(x3, y3, z3)#force to be applied on residue 928## 2042\n",
    "\n",
    "x4, y4, z4 = get_points(x2, y2, z2, -ll, -mm, -nn, 700)\n",
    "#print(x3, y3, z3)#force to be applied on residue 928## 1340\n",
    "\n",
    "for i in range(len(bead)):\n",
    "    if bead[i] == 1340:\n",
    "        ind3 = bead[i]\n",
    "        #print(ind3)\n",
    "        x5, y5, z5 = get_coordinates(ind3)\n",
    "        #print(x5, y5, z5)\n",
    "    if bead[i] == 5539:\n",
    "        ind4 = bead[i]\n",
    "        x6, y6, z6 = get_coordinates(ind4)\n",
    "        \n",
    "l1, m1, n1 = dir_cosine(x4, y4, z4, x5, y5, z5)\n",
    "l2, m2, n2 = dir_cosine(x3, y3, z3, x6, y6, z6)\n",
    "print(l1, m1, n1, ind3)\n",
    "print(l2, m2, n2, ind4)\n",
    "distance(x5, y5, z5, x6, y6, z6)"
   ]
  },
  {
   "cell_type": "code",
   "execution_count": 12,
   "id": "d8eef1c4-2b27-432f-b042-efeded8d4ac9",
   "metadata": {},
   "outputs": [
    {
     "name": "stdout",
     "output_type": "stream",
     "text": [
      "0.6518513501937194 -0.19173394821188208 -0.7337083278481363 3083\n",
      "0.45999643271896634 -0.4554994428693249 -0.7621834027526184 3827\n"
     ]
    }
   ],
   "source": [
    "x3, y3, z3 = get_points(x1, y1, z1, ll, mm, nn, 90)\n",
    "#print(x3, y3, z3)#force to be applied on residue 928## 2042\n",
    "\n",
    "x4, y4, z4 = get_points(x2, y2, z2, -ll, -mm, -nn, 90)\n",
    "#print(x3, y3, z3)#force to be applied on residue 928## 1340\n",
    "\n",
    "for i in range(len(bead)):\n",
    "    if bead[i] == 3083:\n",
    "        ind3 = bead[i]\n",
    "        #print(ind3)\n",
    "        x5, y5, z5 = get_coordinates(ind3)\n",
    "        #print(x5, y5, z5)\n",
    "    if bead[i] == 3827:\n",
    "        ind4 = bead[i]\n",
    "        x6, y6, z6 = get_coordinates(ind4)\n",
    "        \n",
    "l1, m1, n1 = dir_cosine(x4, y4, z4, x5, y5, z5)\n",
    "l2, m2, n2 = dir_cosine(x3, y3, z3, x6, y6, z6)\n",
    "print(l1, m1, n1, ind3)\n",
    "print(l2, m2, n2, ind4)"
   ]
  },
  {
   "cell_type": "code",
   "execution_count": 14,
   "id": "ec391798-0e0a-4744-8167-dcb9fe0bc6a4",
   "metadata": {},
   "outputs": [
    {
     "name": "stdout",
     "output_type": "stream",
     "text": [
      "0.5235420459532527 -0.2079084996049645 -0.826243173594248 2519\n",
      "0.5384898541445197 -0.45646986945288415 -0.708282383844947 4349\n"
     ]
    }
   ],
   "source": [
    "x3, y3, z3 = get_points(x1, y1, z1, ll, mm, nn, 265)\n",
    "#print(x3, y3, z3)#force to be applied on residue 928## 2042\n",
    "\n",
    "x4, y4, z4 = get_points(x2, y2, z2, -ll, -mm, -nn, 265)\n",
    "#print(x3, y3, z3)#force to be applied on residue 928## 1340\n",
    "\n",
    "for i in range(len(bead)):\n",
    "    if bead[i] == 2519:\n",
    "        ind3 = bead[i]\n",
    "        #print(ind3)\n",
    "        x5, y5, z5 = get_coordinates(ind3)\n",
    "        #print(x5, y5, z5)\n",
    "    if bead[i] == 4349:\n",
    "        ind4 = bead[i]\n",
    "        x6, y6, z6 = get_coordinates(ind4)\n",
    "        \n",
    "l1, m1, n1 = dir_cosine(x4, y4, z4, x5, y5, z5)\n",
    "l2, m2, n2 = dir_cosine(x3, y3, z3, x6, y6, z6)\n",
    "print(l1, m1, n1, ind3)\n",
    "print(l2, m2, n2, ind4)"
   ]
  },
  {
   "cell_type": "code",
   "execution_count": 3,
   "id": "9449024d-5d49-499d-9988-64b707dbba7c",
   "metadata": {},
   "outputs": [
    {
     "data": {
      "text/plain": [
       "1273.2318220504858"
      ]
     },
     "execution_count": 3,
     "metadata": {},
     "output_type": "execute_result"
    }
   ],
   "source": [
    "for i in range(len(bead)):\n",
    "    if bead[i] == 2519:\n",
    "        ind3 = bead[i]\n",
    "        #print(ind3)\n",
    "        x5, y5, z5 = get_coordinates(ind3)\n",
    "        #print(x5, y5, z5)\n",
    "    if bead[i] == 5539:\n",
    "        ind4 = bead[i]\n",
    "        x6, y6, z6 = get_coordinates(ind4)\n",
    "distance(x5, y5, z5, x6, y6, z6)"
   ]
  },
  {
   "cell_type": "code",
   "execution_count": 4,
   "id": "a527a692-99e7-4ec3-9e99-52273bf5aa14",
   "metadata": {},
   "outputs": [
    {
     "data": {
      "text/plain": [
       "900.8841528087838"
      ]
     },
     "execution_count": 4,
     "metadata": {},
     "output_type": "execute_result"
    }
   ],
   "source": [
    "for i in range(len(bead)):\n",
    "    if bead[i] == 2174:\n",
    "        ind3 = bead[i]\n",
    "        #print(ind3)\n",
    "        x5, y5, z5 = get_coordinates(ind3)\n",
    "        #print(x5, y5, z5)\n",
    "    if bead[i] == 4673:\n",
    "        ind4 = bead[i]\n",
    "        x6, y6, z6 = get_coordinates(ind4)\n",
    "distance(x5, y5, z5, x6, y6, z6)"
   ]
  },
  {
   "cell_type": "code",
   "execution_count": null,
   "id": "7d3047e3-abe3-4482-8551-726eb3b12b4e",
   "metadata": {},
   "outputs": [],
   "source": []
  }
 ],
 "metadata": {
  "kernelspec": {
   "display_name": "Python 3 (ipykernel)",
   "language": "python",
   "name": "python3"
  },
  "language_info": {
   "codemirror_mode": {
    "name": "ipython",
    "version": 3
   },
   "file_extension": ".py",
   "mimetype": "text/x-python",
   "name": "python",
   "nbconvert_exporter": "python",
   "pygments_lexer": "ipython3",
   "version": "3.9.12"
  }
 },
 "nbformat": 4,
 "nbformat_minor": 5
}
