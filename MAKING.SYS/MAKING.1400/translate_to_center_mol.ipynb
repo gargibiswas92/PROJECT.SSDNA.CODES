{
 "cells": [
  {
   "cell_type": "code",
   "execution_count": 32,
   "id": "3794e52f-5e28-42a0-a976-23919538854b",
   "metadata": {},
   "outputs": [
    {
     "name": "stdout",
     "output_type": "stream",
     "text": [
      "-964.1 466.873\n",
      "2.064 845.2\n",
      "-576.663 1218.8\n",
      "-715.1 715.873\n",
      "-421.936 421.20000000000005\n",
      "-915.663 879.8\n"
     ]
    }
   ],
   "source": [
    "inp1 = open(\"testp4.pdb\", \"r\")\n",
    "\n",
    "x = []\n",
    "y = []\n",
    "z = []\n",
    "\n",
    "for lines in inp1:\n",
    "    if lines.startswith(\"ATOM\"):\n",
    "        x.append(float(lines[26:38]))\n",
    "        y.append(float(lines[38:46]))\n",
    "        z.append(float(lines[46:54]))\n",
    "print(min(x), max(x))\n",
    "print(min(y), max(y))\n",
    "print(min(z), max(z))\n",
    "\n",
    "x1 = []\n",
    "y1 = []\n",
    "z1 = []\n",
    "for i in range(len(x)):\n",
    "    p = x[i]+249.0\n",
    "    q = y[i]-424.0\n",
    "    r = z[i]-339.0\n",
    "    x1.append(p)\n",
    "    y1.append(q)\n",
    "    z1.append(r)\n",
    "    \n",
    "print(min(x1), max(x1))\n",
    "print(min(y1), max(y1))\n",
    "print(min(z1), max(z1))\n",
    "\n",
    "for line in inp1:\n",
    "    if line.startswith(\"ATOM\"):\n",
    "        a = line[0:26]\n",
    "        b = line[54:-1]\n",
    "        ss = '{}{}{}{}{}{}'.format()"
   ]
  },
  {
   "cell_type": "code",
   "execution_count": 33,
   "id": "763868fb-baab-4a64-aa52-fe76d2bfd49b",
   "metadata": {},
   "outputs": [],
   "source": [
    "inp1 = open(\"testp4.pdb\", \"r\")\n",
    "out1 = open('modp4.pdb', 'w')\n",
    "for lines in inp1:\n",
    "    if lines.startswith(\"ATOM\"):\n",
    "        a = lines[0:26]\n",
    "        p = float(lines[26:38])+249.0\n",
    "        q = float(lines[38:46])-424.0\n",
    "        r = float(lines[46:54])-339.0\n",
    "        b = lines[54:-1]\n",
    "        ss = '{}{:>12.3f}{:>8.3f}{:>8.3f}{}{}'.format(a, p, q, r, b, '\\n')\n",
    "        out1.writelines(ss)\n",
    "    else:\n",
    "        out1.writelines(lines)\n",
    "inp1.close()\n",
    "out1.close()\n",
    "        "
   ]
  },
  {
   "cell_type": "code",
   "execution_count": null,
   "id": "0fea3f88-ca89-4da4-8ca7-8f27300f778a",
   "metadata": {},
   "outputs": [],
   "source": []
  }
 ],
 "metadata": {
  "kernelspec": {
   "display_name": "Python 3 (ipykernel)",
   "language": "python",
   "name": "python3"
  },
  "language_info": {
   "codemirror_mode": {
    "name": "ipython",
    "version": 3
   },
   "file_extension": ".py",
   "mimetype": "text/x-python",
   "name": "python",
   "nbconvert_exporter": "python",
   "pygments_lexer": "ipython3",
   "version": "3.9.12"
  }
 },
 "nbformat": 4,
 "nbformat_minor": 5
}
