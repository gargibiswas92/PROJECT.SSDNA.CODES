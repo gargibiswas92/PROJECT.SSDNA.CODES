{
 "cells": [
  {
   "cell_type": "code",
   "execution_count": 20,
   "id": "ad752dee-6492-44e3-9765-72ba01676821",
   "metadata": {},
   "outputs": [
    {
     "name": "stdout",
     "output_type": "stream",
     "text": [
      "777.587 275.733 -963.466\n",
      "473.334 -993.92 -745.009\n",
      "1339 5535 -0.22984186689755687 -0.9591340622182322 0.16502898810147995\n"
     ]
    }
   ],
   "source": [
    "import math\n",
    "\n",
    "inp1 = open(\"snap2.pdb\", \"r\")\n",
    "atom_num = []\n",
    "atom_name = []\n",
    "res_name = []\n",
    "res_num = []\n",
    "x = []\n",
    "y = []\n",
    "z = []\n",
    "count = 0\n",
    "\n",
    "for line in inp1:\n",
    "    a = line[4:11]\n",
    "    b = line[11:15]\n",
    "    c = line[15:20]\n",
    "    d = line[22:26]\n",
    "    e = line[26:38]\n",
    "    f = line[38:46]\n",
    "    g = line[46:54]\n",
    "    \n",
    "    atom_num.append(int(a))\n",
    "    atom_name.append(b.strip())\n",
    "    res_name.append(c.strip())\n",
    "    res_num.append(int(d))\n",
    "    x.append(float(e))\n",
    "    y.append(float(f))\n",
    "    z.append(float(g))\n",
    "    count = count + 1\n",
    "    \n",
    "def dir_cosine(x1, y1, z1, x2, y2, z2):\n",
    "    dx = x2 - x1\n",
    "    dy = y2 - y1\n",
    "    dz = z2 - z1\n",
    "    rm = math.sqrt(dx**2 + dy**2 + dz**2)\n",
    "    return dx/rm, dy/rm, dz/rm\n",
    "    \n",
    "for i in range(count):\n",
    "    if atom_num[i] == 1340:\n",
    "        ind1 = i\n",
    "        x1 = x[i]\n",
    "        y1 = y[i]\n",
    "        z1 = z[i]\n",
    "        print(x1, y1, z1)\n",
    "    if atom_num[i] == 5536:\n",
    "        ind2 = i\n",
    "        x2 = x[i]\n",
    "        y2 = y[i]\n",
    "        z2 = z[i]\n",
    "        print(x2, y2, z2)\n",
    "alpha, beta, gamma = dir_cosine(x1, y1, z1, x2, y2, z2)\n",
    "print(ind1, ind2, alpha, beta, gamma)"
   ]
  },
  {
   "cell_type": "code",
   "execution_count": 21,
   "id": "dd036c8e-07be-4725-b91e-e3f739cb1e58",
   "metadata": {},
   "outputs": [],
   "source": [
    "def translate(x, y, z, a, b, c):\n",
    "    xn = []\n",
    "    yn = []\n",
    "    zn = []\n",
    "    for i in range(len(x)):\n",
    "        xx = x[i] + a\n",
    "        yy = y[i] + b\n",
    "        zz = z[i] + c\n",
    "        xn.append(xx)\n",
    "        yn.append(yy)\n",
    "        zn.append(zz)\n",
    "    return xn, yn, zn"
   ]
  },
  {
   "cell_type": "code",
   "execution_count": 22,
   "id": "0ac954b5-c7df-4b69-afc4-24630d2d12f6",
   "metadata": {},
   "outputs": [
    {
     "name": "stdout",
     "output_type": "stream",
     "text": [
      "1.8027115234372801 2.8547221291479796 1.4050089244665958\n",
      "103.28635673533897 163.5613043895335 80.49998632731361\n"
     ]
    }
   ],
   "source": [
    "\n",
    "\n",
    "m = 57.295\n",
    "ang1 = math.acos(alpha)\n",
    "ang2 = math.acos(beta)\n",
    "ang3 = math.acos(gamma)\n",
    "\n",
    "print(math.acos(alpha), math.acos(beta), math.acos(gamma))\n",
    "print(math.acos(alpha)*m, math.acos(beta)*m, math.acos(gamma)*m)\n",
    "\n",
    "def x_rotation(ang, x, y, z):\n",
    "    x_n1 = []\n",
    "    y_n1 = []\n",
    "    z_n1 = []\n",
    "    for i in range(len(x)):\n",
    "        a1 = x[i]\n",
    "        b1 = (math.cos(ang)*y[i]) - (z[i]*math.sin(ang))\n",
    "        c1 = (math.sin(ang)*y[i]) + (z[i]*math.cos(ang))\n",
    "        \n",
    "        x_n1.append(a1)\n",
    "        y_n1.append(b1)\n",
    "        z_n1.append(c1)\n",
    "        \n",
    "    return x_n1, y_n1, z_n1\n",
    "\n",
    "def y_rotation(ang, x, y, z):\n",
    "    x_n2 = []\n",
    "    y_n2 = []\n",
    "    z_n2 = []\n",
    "    for i in range(len(x)):\n",
    "        a1 = (x[i]*math.cos(ang)) + (z[i]*math.sin(ang))\n",
    "        b1 = y[i]\n",
    "        c1 = (z[i]*math.cos(ang)) - (x[i]*math.sin(ang))\n",
    "        \n",
    "        x_n2.append(a1)\n",
    "        y_n2.append(b1)\n",
    "        z_n2.append(c1)\n",
    "        \n",
    "    return x_n2, y_n2, z_n2\n",
    "\n",
    "def z_rotation(ang, x, y, z):\n",
    "    x_n3 = []\n",
    "    y_n3 = []\n",
    "    z_n3 = []\n",
    "    for i in range(len(x)):\n",
    "        a1 = (x[i]*math.cos(ang)) - (y[i]*math.sin(ang))\n",
    "        b1 = (x[i]*math.sin(ang)) + (y[i]*math.cos(ang))\n",
    "        c1 = z[i]\n",
    "        \n",
    "        x_n3.append(a1)\n",
    "        y_n3.append(b1)\n",
    "        z_n3.append(c1)\n",
    "        \n",
    "    return x_n3, y_n3, z_n3\n",
    "\n",
    "#rotx1, roty1, rotz1 = x_rotation(ang1, xt, yt, zt)\n",
    "#rotx2, roty2, rotz2 = y_rotation(ang2, rotx1, roty1, rotz1)\n",
    "#rotx3, roty3, rotz3 = z_rotation(ang3, rotx2, roty2, rotz2)\n",
    "\n",
    "rotx1, roty1, rotz1 = y_rotation(ang2, x, y, z)\n",
    "rotx2, roty2, rotz2 = z_rotation(ang3, rotx1, roty1, rotz1)\n",
    "rotx3, roty3, rotz3 = x_rotation(ang1, rotx2, roty2, rotz2)\n",
    "\n"
   ]
  },
  {
   "cell_type": "code",
   "execution_count": 23,
   "id": "8e50d97c-70c6-406b-b7d0-e47dd22a616d",
   "metadata": {},
   "outputs": [
    {
     "name": "stdout",
     "output_type": "stream",
     "text": [
      "-440.02196717924073 -464.8153172217557 -1095.1092878291872\n",
      "870.5820363200406 -376.68591421700154 -931.2116258425649\n",
      "1339 5535 0.9900696819018613 0.06657560160517681 0.12381322324233456\n",
      "0.14104465223666562 1.5041714462118758 1.4466645643320377\n",
      "8.081263296051366 86.1826755320298 82.88777390735773\n"
     ]
    }
   ],
   "source": [
    "for i in range(count):\n",
    "    if atom_num[i] == 1340:\n",
    "        ind1 = i\n",
    "        x1 = rotx3[i]\n",
    "        y1 = roty3[i]\n",
    "        z1 = rotz3[i]\n",
    "        print(x1, y1, z1)\n",
    "    if atom_num[i] == 5536:\n",
    "        ind2 = i\n",
    "        x2 = rotx3[i]\n",
    "        y2 = roty3[i]\n",
    "        z2 = rotz3[i]\n",
    "        print(x2, y2, z2)\n",
    "alpha1, beta1, gamma1 = dir_cosine(x1, y1, z1, x2, y2, z2)\n",
    "print(ind1, ind2, alpha1, beta1, gamma1)\n",
    "\n",
    "m = 180/(math.pi)\n",
    "ang11 = math.acos(alpha1)\n",
    "ang22 = math.acos(beta1)\n",
    "ang33 = math.acos(gamma1)\n",
    "print(ang11, ang22, ang33)\n",
    "print(m*ang11, m*ang22, m*ang33)\n"
   ]
  },
  {
   "cell_type": "code",
   "execution_count": 24,
   "id": "69583530-17f7-44dc-967b-1cd71334112f",
   "metadata": {},
   "outputs": [
    {
     "name": "stdout",
     "output_type": "stream",
     "text": [
      "871.768223444411 -440.02196717924073\n",
      "-231.11404124155902 -488.53921340823035\n",
      "-682.5102007084017 -1146.4840730266928\n"
     ]
    }
   ],
   "source": [
    "maxx = max(rotx3)\n",
    "minx = min(rotx3)\n",
    "print(maxx, minx)\n",
    "maxy = max(roty3)\n",
    "miny = min(roty3)\n",
    "print(maxy, miny)\n",
    "maxz = max(rotz3)\n",
    "minz = min(rotz3)\n",
    "print(maxz, minz)"
   ]
  },
  {
   "cell_type": "code",
   "execution_count": 29,
   "id": "aba2c673-4d82-4fb9-ba6a-901fd99618a2",
   "metadata": {},
   "outputs": [],
   "source": [
    "xt, yt, zt = translate(rotx3, roty3, rotz3, -216.0, 360.0, 914.0)\n"
   ]
  },
  {
   "cell_type": "code",
   "execution_count": 30,
   "id": "999d5d4c-e7be-43e3-bbf1-6ec87f3f6d9e",
   "metadata": {},
   "outputs": [
    {
     "name": "stdout",
     "output_type": "stream",
     "text": [
      "655.768223444411 -656.0219671792407\n",
      "128.88595875844098 -128.53921340823035\n",
      "231.48979929159827 -232.48407302669284\n"
     ]
    }
   ],
   "source": [
    "maxx = max(xt)\n",
    "minx = min(xt)\n",
    "print(maxx, minx)\n",
    "maxy = max(yt)\n",
    "miny = min(yt)\n",
    "print(maxy, miny)\n",
    "maxz = max(zt)\n",
    "minz = min(zt)\n",
    "print(maxz, minz)"
   ]
  },
  {
   "cell_type": "code",
   "execution_count": 31,
   "id": "3ea87936-41fc-4ad4-8e68-fff889c56afd",
   "metadata": {},
   "outputs": [],
   "source": [
    "m = 1.0\n",
    "n = 0\n",
    "atom_type = \"C\"\n",
    "out1 = open(\"rot_mod_2.dat\", \"w\")   \n",
    "for i in range(len(atom_num)):\n",
    "    if atom_num[i] <= 1339:\n",
    "        #ss = '{:>5d}{:>4d}{:>3s}{:>4s}{:>8.3f}{:>8.3f}{:>8.3f}{:>8.3f}{}'.format(atom[i], res_num[i], atom_name[i], res_name[i], x[i], y[i], z[i], m, \"\\n\")\n",
    "        ss = '{:>5d}{:>4d}{:>3s}{:>4s}{:>8.3f}{:>8.3f}{:>8.3f}{:>8.3f}{}'.format(atom_num[i], res_num[i], atom_name[i], res_name[i], xt[i], yt[i], zt[i], m, \"\\n\")\n",
    "        out1.writelines(ss)\n",
    "    if atom_num[i] >= 1340:\n",
    "        ss1 = '{:>5d}{:>4d}{:>2s}{:>5s}{:>8.3f}{:>8.3f}{:>8.3f}{:>8.3f}{:>3d}{}'.format(atom_num[i], atom_num[i], atom_name[i], res_name[i], xt[i], yt[i], zt[i], m, n, \"\\n\")\n",
    "        out1.writelines(ss1)\n",
    "out1.close()"
   ]
  },
  {
   "cell_type": "code",
   "execution_count": 17,
   "id": "e6724760-dc1c-4c11-9db2-ba8c1588e5b2",
   "metadata": {},
   "outputs": [
    {
     "name": "stdout",
     "output_type": "stream",
     "text": [
      "-629.1427615129048 -118.73951773277383 -203.1166376860872\n",
      "631.6372510892104 -25.319201429885652 -52.034947839573306\n",
      "1340 5539 0.9902203124107302 0.07337258988110958 0.11866000144671474\n",
      "0.1399690656762997 1.4973577429038374 1.4518560867297896\n",
      "8.019636725641405 85.79227908962487 83.18522622999654\n"
     ]
    }
   ],
   "source": [
    "for i in range(count):\n",
    "    if atom_num[i] == 1340:\n",
    "        ind1 = atom_num[i]\n",
    "        x1 = xt[i]\n",
    "        y1 = yt[i]\n",
    "        z1 = zt[i]\n",
    "        print(x1, y1, z1)\n",
    "    if atom_num[i] == 5539:\n",
    "        ind2 = atom_num[i]\n",
    "        x2 = xt[i]\n",
    "        y2 = yt[i]\n",
    "        z2 = zt[i]\n",
    "        print(x2, y2, z2)\n",
    "\n",
    "alpha1, beta1, gamma1 = dir_cosine(x1, y1, z1, x2, y2, z2)\n",
    "print(ind1, ind2, alpha1, beta1, gamma1)\n",
    "\n",
    "m = 180/(math.pi)\n",
    "ang11 = math.acos(alpha1)\n",
    "ang22 = math.acos(beta1)\n",
    "ang33 = math.acos(gamma1)\n",
    "print(ang11, ang22, ang33)\n",
    "print(m*ang11, m*ang22, m*ang33)"
   ]
  },
  {
   "cell_type": "code",
   "execution_count": 18,
   "id": "636192f8-22c4-4cf7-a349-4d7077822f41",
   "metadata": {},
   "outputs": [
    {
     "name": "stdout",
     "output_type": "stream",
     "text": [
      "1273.2318220504858\n"
     ]
    }
   ],
   "source": [
    "def distance(x1, y1, z1, x2, y2, z2):\n",
    "    r1 = (x1 - x2)\n",
    "    r2 = (y1 - y2)\n",
    "    r3 = (z1 - z2)\n",
    "    r_m = math.sqrt(r1**2 + r2**2 + r3**2)\n",
    "    return (r_m)\n",
    "\n",
    "r = distance(x1, y1, z1, x2, y2, z2)\n",
    "\n",
    "print(r)"
   ]
  },
  {
   "cell_type": "code",
   "execution_count": 19,
   "id": "76b05e08-4466-4c0a-ac23-177dff0fcfad",
   "metadata": {},
   "outputs": [
    {
     "name": "stdout",
     "output_type": "stream",
     "text": [
      "1340 5539 0.9902203124107302 0.07337258988110958 0.11866000144671474\n"
     ]
    }
   ],
   "source": [
    "print(ind1, ind2, alpha1, beta1, gamma1)"
   ]
  },
  {
   "cell_type": "code",
   "execution_count": null,
   "id": "51c76811-1f7d-4313-ad67-74268da6deca",
   "metadata": {},
   "outputs": [],
   "source": []
  }
 ],
 "metadata": {
  "kernelspec": {
   "display_name": "Python 3 (ipykernel)",
   "language": "python",
   "name": "python3"
  },
  "language_info": {
   "codemirror_mode": {
    "name": "ipython",
    "version": 3
   },
   "file_extension": ".py",
   "mimetype": "text/x-python",
   "name": "python",
   "nbconvert_exporter": "python",
   "pygments_lexer": "ipython3",
   "version": "3.9.12"
  }
 },
 "nbformat": 4,
 "nbformat_minor": 5
}
