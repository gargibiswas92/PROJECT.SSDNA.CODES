{
 "cells": [
  {
   "cell_type": "code",
   "execution_count": 66,
   "id": "ad479f2d-a1ab-4930-8f64-fbbf6ca08900",
   "metadata": {},
   "outputs": [],
   "source": [
    "inp1 = open('sum_1.txt', 'r')\n",
    "inp2 = open('sum_2.txt', 'r')\n",
    "time = []\n",
    "num1 = []\n",
    "for line in inp1:\n",
    "    arr = line.split()\n",
    "    time.append(int(arr[0]))\n",
    "    num1.append(int(arr[1]))\n",
    "num2 = []    \n",
    "for line2 in inp2:\n",
    "    arr2 = line2.split()\n",
    "    num2.append(int(arr2[1]))\n",
    "num = []    \n",
    "for j in range(len(num1)):\n",
    "    num.append(num1[j]+num2[j])"
   ]
  },
  {
   "cell_type": "code",
   "execution_count": 67,
   "id": "f267dc10-3ad8-4e50-aa1d-d3207e274fcd",
   "metadata": {},
   "outputs": [
    {
     "data": {
      "text/plain": [
       "<BarContainer object of 99999 artists>"
      ]
     },
     "execution_count": 67,
     "metadata": {},
     "output_type": "execute_result"
    },
    {
     "data": {
      "image/png": "[encoded data removed]",
      "text/plain": [
       "<Figure size 432x288 with 1 Axes>"
      ]
     },
     "metadata": {
      "needs_background": "light"
     },
     "output_type": "display_data"
    }
   ],
   "source": [
    "import matplotlib.pyplot as plt\n",
    "plt.bar(time, num)"
   ]
  },
  {
   "cell_type": "code",
   "execution_count": 68,
   "id": "d50294cc-3e24-4b4d-b53e-acdcb3f6bf47",
   "metadata": {},
   "outputs": [
    {
     "name": "stderr",
     "output_type": "stream",
     "text": [
      "/tmp/ipykernel_2926158/3234274103.py:6: RuntimeWarning: overflow encountered in exp\n",
      "  return a * np.exp(-b * x)\n",
      "/tmp/ipykernel_2926158/3234274103.py:6: RuntimeWarning: overflow encountered in multiply\n",
      "  return a * np.exp(-b * x)\n"
     ]
    },
    {
     "data": {
      "image/png": "[encoded data removed]",
      "text/plain": [
       "<Figure size 432x288 with 1 Axes>"
      ]
     },
     "metadata": {
      "needs_background": "light"
     },
     "output_type": "display_data"
    }
   ],
   "source": [
    "from scipy.optimize import curve_fit\n",
    "import numpy as np\n",
    "x = np.array(time)\n",
    "y = np.array(num)\n",
    "def exponential_decay(x, a, b):\n",
    "    return a * np.exp(-b * x)\n",
    "popt, pcov = curve_fit(exponential_decay, x, y)\n",
    "plt.bar(x, y)\n",
    "plt.plot(x, exponential_decay(x, *popt), 'r-', label='Fit')\n",
    "plt.ylabel('Frequency', fontsize=18, fontweight='bold', family='serif')\n",
    "plt.xlabel('Time steps', fontsize=18, fontweight='bold', family='serif')\n",
    "plt.title('Dihedral potential=0.0', fontsize=18, fontweight='bold', family='serif')\n",
    "plt.savefig('freq_0.png', dpi=300, bbox_inches='tight')"
   ]
  },
  {
   "cell_type": "code",
   "execution_count": 60,
   "id": "5d3796cd-a773-4760-a239-9ebd0c9b115b",
   "metadata": {},
   "outputs": [
    {
     "data": {
      "text/plain": [
       "46056.38447262541"
      ]
     },
     "execution_count": 60,
     "metadata": {},
     "output_type": "execute_result"
    }
   ],
   "source": [
    "time_steps = 1/popt[1]\n",
    "time_steps"
   ]
  },
  {
   "cell_type": "code",
   "execution_count": 61,
   "id": "406a6382-7af8-41d6-94d5-fef490c3b4e6",
   "metadata": {},
   "outputs": [
    {
     "name": "stdout",
     "output_type": "stream",
     "text": [
      "-1.5170422399331347 8.60046513400722\n",
      "-2.5181746558653635 14.48167278488212\n",
      "-3.022999875326757 17.543517961817162\n"
     ]
    },
    {
     "data": {
      "image/png": "[encoded data removed]",
      "text/plain": [
       "<Figure size 432x288 with 1 Axes>"
      ]
     },
     "metadata": {
      "needs_background": "light"
     },
     "output_type": "display_data"
    }
   ],
   "source": [
    "from math import exp\n",
    "from math import log\n",
    "\n",
    "x = [log(140), log(150), log(170)]\n",
    "y50 = [log(1/0.330), log(1/0.371), log(1/0.444)]\n",
    "y100 = [log(1/0.132), log(1/0.152), log(1/0.214)]\n",
    "y200 = [log(1/0.075), log(1/0.089), log(1/0.134)]\n",
    "plt.scatter(x,y50)\n",
    "m50, b50 = np.polyfit(x,y50,1)\n",
    "print(m50,b50)\n",
    "m100, b100 = np.polyfit(x,y100,1)\n",
    "print(m100,b100)\n",
    "m200, b200 = np.polyfit(x,y200,1)\n",
    "print(m200,b200)"
   ]
  },
  {
   "cell_type": "code",
   "execution_count": 62,
   "id": "95e62904-c02f-45e6-872c-317306ab0539",
   "metadata": {},
   "outputs": [
    {
     "name": "stdout",
     "output_type": "stream",
     "text": [
      "0.017327262669518277 0.0009694844377986574 0.00020553441482390556 2.995732273553991\n"
     ]
    }
   ],
   "source": [
    "from math import exp\n",
    "from math import log\n",
    "def linear(n):\n",
    "    slope1 = -1.517\n",
    "    int1 = 8.600\n",
    "    slope2 = -2.518\n",
    "    int2 = 14.482\n",
    "    slope3 = -3.022\n",
    "    int3 = 17.543\n",
    "    x = log(n)\n",
    "    y1 = (slope1*x) + int1\n",
    "    y2 = (slope2*x) + int2\n",
    "    y3 = (slope3*x) + int3\n",
    "    \n",
    "    tt1 = exp(-y1)\n",
    "    tt2 = exp(-y2)\n",
    "    tt3 = exp(-y3)\n",
    "    \n",
    "    return tt1, tt2, tt3, x\n",
    "#    return y1, y2, y3, x\n",
    "\n",
    "a, b, c, d = linear(20)\n",
    "print(a,b,c,d)"
   ]
  },
  {
   "cell_type": "code",
   "execution_count": 64,
   "id": "52d6d60f-198d-4c64-b845-249e8cfae6eb",
   "metadata": {},
   "outputs": [
    {
     "name": "stdout",
     "output_type": "stream",
     "text": [
      "3.762184736801714e-07 2.1049946688170693e-08 4.46266933840778e-09\n"
     ]
    }
   ],
   "source": [
    "eqv_t1 = a/time_steps\n",
    "eqv_t2 = b/time_steps\n",
    "eqv_t3 = c/time_steps\n",
    "print(eqv_t1, eqv_t2, eqv_t3)"
   ]
  },
  {
   "cell_type": "code",
   "execution_count": 72,
   "id": "30d66737-44cc-413f-a28c-c3d9f43eb93a",
   "metadata": {},
   "outputs": [
    {
     "name": "stdout",
     "output_type": "stream",
     "text": [
      "3.762184736801714e-10 2.1049946688170693e-11 4.462669338407779e-12\n"
     ]
    }
   ],
   "source": [
    "eqv_tf1 = a/(time_steps*1000)\n",
    "eqv_tf2 = b/(time_steps*1000)\n",
    "eqv_tf3 = c/(time_steps*1000)\n",
    "print(eqv_tf1, eqv_tf2, eqv_tf3)\n",
    "out1 = open('final_0.txt', 'w')\n",
    "ss = '{}{:>.3e}{}{}{:>.3e}{}{}{:>.3e}{}'.format(' 50   ', eqv_tf1, '\\n','100   ', eqv_tf2, '\\n', '200   ', eqv_tf3, '\\n')\n",
    "out1.writelines(ss)\n",
    "out1.close()"
   ]
  },
  {
   "cell_type": "code",
   "execution_count": 34,
   "id": "96e09759-ad9e-4e95-bf60-e5dd61465044",
   "metadata": {},
   "outputs": [
    {
     "ename": "FileNotFoundError",
     "evalue": "[Errno 2] No such file or directory: 'binary_bin.txt'",
     "output_type": "error",
     "traceback": [
      "\u001b[0;31m---------------------------------------------------------------------------\u001b[0m",
      "\u001b[0;31mFileNotFoundError\u001b[0m                         Traceback (most recent call last)",
      "Input \u001b[0;32mIn [34]\u001b[0m, in \u001b[0;36m<cell line: 1>\u001b[0;34m()\u001b[0m\n\u001b[0;32m----> 1\u001b[0m inp \u001b[38;5;241m=\u001b[39m \u001b[38;5;28;43mopen\u001b[39;49m\u001b[43m(\u001b[49m\u001b[38;5;124;43m'\u001b[39;49m\u001b[38;5;124;43mbinary_bin.txt\u001b[39;49m\u001b[38;5;124;43m'\u001b[39;49m\u001b[43m,\u001b[49m\u001b[43m \u001b[49m\u001b[38;5;124;43m'\u001b[39;49m\u001b[38;5;124;43mr\u001b[39;49m\u001b[38;5;124;43m'\u001b[39;49m\u001b[43m)\u001b[49m\n\u001b[1;32m      2\u001b[0m time \u001b[38;5;241m=\u001b[39m []\n\u001b[1;32m      3\u001b[0m num \u001b[38;5;241m=\u001b[39m []\n",
      "\u001b[0;31mFileNotFoundError\u001b[0m: [Errno 2] No such file or directory: 'binary_bin.txt'"
     ]
    }
   ],
   "source": [
    "inp = open('binary_bin.txt', 'r')\n",
    "time = []\n",
    "num = []\n",
    "for line in inp:\n",
    "    arr = line.split()\n",
    "    time.append(int(arr[0]))\n",
    "    num.append(float(arr[1]))"
   ]
  },
  {
   "cell_type": "code",
   "execution_count": 12,
   "id": "a03f4744-6b8b-4500-a05a-ed6d4707ff1e",
   "metadata": {},
   "outputs": [
    {
     "name": "stderr",
     "output_type": "stream",
     "text": [
      "/home_b/gargi/miniconda3/lib/python3.9/site-packages/scipy/optimize/minpack.py:833: OptimizeWarning: Covariance of the parameters could not be estimated\n",
      "  warnings.warn('Covariance of the parameters could not be estimated',\n"
     ]
    },
    {
     "data": {
      "text/plain": [
       "[<matplotlib.lines.Line2D at 0x147e62dbb640>]"
      ]
     },
     "execution_count": 12,
     "metadata": {},
     "output_type": "execute_result"
    },
    {
     "data": {
      "image/png": "[encoded data removed]",
      "text/plain": [
       "<Figure size 432x288 with 1 Axes>"
      ]
     },
     "metadata": {
      "needs_background": "light"
     },
     "output_type": "display_data"
    }
   ],
   "source": [
    "from scipy.optimize import curve_fit\n",
    "import matplotlib.pyplot as plt\n",
    "import numpy as np\n",
    "x = np.array(time)\n",
    "y = np.array(num)\n",
    "def exponential_decay(x, a, b):\n",
    "    return a * np.exp(-b * x)\n",
    "popt, pcov = curve_fit(exponential_decay, x, y)\n",
    "plt.bar(x, y)\n",
    "plt.plot(x, exponential_decay(x, *popt), 'r-', label='Fit')\n"
   ]
  },
  {
   "cell_type": "code",
   "execution_count": null,
   "id": "1b7d7210-ca59-4c9b-a330-05652abc8317",
   "metadata": {},
   "outputs": [],
   "source": []
  }
 ],
 "metadata": {
  "kernelspec": {
   "display_name": "Python 3 (ipykernel)",
   "language": "python",
   "name": "python3"
  },
  "language_info": {
   "codemirror_mode": {
    "name": "ipython",
    "version": 3
   },
   "file_extension": ".py",
   "mimetype": "text/x-python",
   "name": "python",
   "nbconvert_exporter": "python",
   "pygments_lexer": "ipython3",
   "version": "3.9.12"
  }
 },
 "nbformat": 4,
 "nbformat_minor": 5
}
