{
 "cells": [
  {
   "cell_type": "code",
   "execution_count": 1,
   "id": "407d22d0-42e1-4395-a2a8-802ab2e4e2a4",
   "metadata": {},
   "outputs": [],
   "source": [
    "inp1 = open('sum_7_1.txt', 'r')\n",
    "inp2 = open('sum_7_2.txt', 'r')\n",
    "time = []\n",
    "num1 = []\n",
    "for line in inp1:\n",
    "    arr = line.split()\n",
    "    time.append(int(arr[0]))\n",
    "    num1.append(int(arr[1]))\n",
    "num2 = []    \n",
    "for line2 in inp2:\n",
    "    arr2 = line2.split()\n",
    "    num2.append(int(arr2[1]))\n",
    "num = []    \n",
    "for j in range(len(num1)):\n",
    "    num.append(num1[j]+num2[j])"
   ]
  },
  {
   "cell_type": "code",
   "execution_count": 2,
   "id": "fb986785-0f9b-457f-a9a0-880c24016ad6",
   "metadata": {},
   "outputs": [
    {
     "data": {
      "text/plain": [
       "<BarContainer object of 99999 artists>"
      ]
     },
     "execution_count": 2,
     "metadata": {},
     "output_type": "execute_result"
    },
    {
     "data": {
      "image/png": "[encoded data removed]",
      "text/plain": [
       "<Figure size 432x288 with 1 Axes>"
      ]
     },
     "metadata": {
      "needs_background": "light"
     },
     "output_type": "display_data"
    }
   ],
   "source": [
    "import matplotlib.pyplot as plt\n",
    "plt.bar(time, num)"
   ]
  },
  {
   "cell_type": "code",
   "execution_count": 3,
   "id": "fb9fbd43-29ce-4dba-9782-dc9fc074291d",
   "metadata": {},
   "outputs": [
    {
     "name": "stderr",
     "output_type": "stream",
     "text": [
      "/tmp/ipykernel_2936840/1470978238.py:6: RuntimeWarning: overflow encountered in exp\n",
      "  return a * np.exp(-b * x)\n",
      "/tmp/ipykernel_2936840/1470978238.py:6: RuntimeWarning: overflow encountered in multiply\n",
      "  return a * np.exp(-b * x)\n"
     ]
    },
    {
     "data": {
      "image/png": "[encoded data removed]",
      "text/plain": [
       "<Figure size 432x288 with 1 Axes>"
      ]
     },
     "metadata": {
      "needs_background": "light"
     },
     "output_type": "display_data"
    }
   ],
   "source": [
    "from scipy.optimize import curve_fit\n",
    "import numpy as np\n",
    "x = np.array(time)\n",
    "y = np.array(num)\n",
    "def exponential_decay(x, a, b):\n",
    "    return a * np.exp(-b * x)\n",
    "popt, pcov = curve_fit(exponential_decay, x, y)\n",
    "plt.bar(x, y)\n",
    "plt.plot(x, exponential_decay(x, *popt), 'r-', label='Fit')\n",
    "plt.ylabel('Frequency', fontsize=18, fontweight='bold', family='serif')\n",
    "plt.xlabel('Time steps', fontsize=18, fontweight='bold', family='serif')\n",
    "plt.title('Dihedral potential=0.7', fontsize=18, fontweight='bold', family='serif')\n",
    "plt.savefig('freq.png', dpi=300, bbox_inches='tight')\n"
   ]
  },
  {
   "cell_type": "code",
   "execution_count": 4,
   "id": "7a48cc06-f5ad-4936-97bc-9e13686ca2a4",
   "metadata": {},
   "outputs": [
    {
     "data": {
      "text/plain": [
       "276247.6468236856"
      ]
     },
     "execution_count": 4,
     "metadata": {},
     "output_type": "execute_result"
    }
   ],
   "source": [
    "time_steps = 1/popt[1]\n",
    "time_steps"
   ]
  },
  {
   "cell_type": "code",
   "execution_count": 5,
   "id": "c78f753a-6401-4914-9630-e60c4f0b529a",
   "metadata": {},
   "outputs": [
    {
     "name": "stdout",
     "output_type": "stream",
     "text": [
      "-1.5170422399331347 8.60046513400722\n",
      "-2.5181746558653635 14.48167278488212\n",
      "-3.022999875326757 17.543517961817162\n"
     ]
    },
    {
     "data": {
      "image/png": "[encoded data removed]",
      "text/plain": [
       "<Figure size 432x288 with 1 Axes>"
      ]
     },
     "metadata": {
      "needs_background": "light"
     },
     "output_type": "display_data"
    }
   ],
   "source": [
    "from math import exp\n",
    "from math import log\n",
    "\n",
    "x = [log(140), log(150), log(170)]\n",
    "y50 = [log(1/0.330), log(1/0.371), log(1/0.444)]\n",
    "y100 = [log(1/0.132), log(1/0.152), log(1/0.214)]\n",
    "y200 = [log(1/0.075), log(1/0.089), log(1/0.134)]\n",
    "plt.scatter(x,y50)\n",
    "m50, b50 = np.polyfit(x,y50,1)\n",
    "print(m50,b50)\n",
    "m100, b100 = np.polyfit(x,y100,1)\n",
    "print(m100,b100)\n",
    "m200, b200 = np.polyfit(x,y200,1)\n",
    "print(m200,b200)"
   ]
  },
  {
   "cell_type": "code",
   "execution_count": 6,
   "id": "794b6ef2-bab0-4b36-ab34-10c08c3f5862",
   "metadata": {},
   "outputs": [
    {
     "name": "stdout",
     "output_type": "stream",
     "text": [
      "0.017327262669518277 0.0009694844377986574 0.00020553441482390556 2.995732273553991\n"
     ]
    }
   ],
   "source": [
    "from math import exp\n",
    "from math import log\n",
    "def linear(n):\n",
    "    slope1 = -1.517\n",
    "    int1 = 8.600\n",
    "    slope2 = -2.518\n",
    "    int2 = 14.482\n",
    "    slope3 = -3.022\n",
    "    int3 = 17.543\n",
    "    x = log(n)\n",
    "    y1 = (slope1*x) + int1\n",
    "    y2 = (slope2*x) + int2\n",
    "    y3 = (slope3*x) + int3\n",
    "    \n",
    "    tt1 = exp(-y1)\n",
    "    tt2 = exp(-y2)\n",
    "    tt3 = exp(-y3)\n",
    "    \n",
    "    return tt1, tt2, tt3, x\n",
    "#    return y1, y2, y3, x\n",
    "\n",
    "a, b, c, d = linear(20)\n",
    "print(a,b,c,d)"
   ]
  },
  {
   "cell_type": "code",
   "execution_count": 7,
   "id": "718dbe7c-f91b-4a8c-996d-3bf48bd1dcb3",
   "metadata": {},
   "outputs": [
    {
     "name": "stdout",
     "output_type": "stream",
     "text": [
      "6.272365708359268e-08 3.509475823399243e-09 7.440223190573905e-10\n"
     ]
    }
   ],
   "source": [
    "eqv_t1 = a/time_steps\n",
    "eqv_t2 = b/time_steps\n",
    "eqv_t3 = c/time_steps\n",
    "print(eqv_t1, eqv_t2, eqv_t3)\n"
   ]
  },
  {
   "cell_type": "code",
   "execution_count": 9,
   "id": "142fe732-76f3-4bb8-897f-436a3d23f4fd",
   "metadata": {},
   "outputs": [
    {
     "name": "stdout",
     "output_type": "stream",
     "text": [
      "6.272365708359268e-11 3.509475823399243e-12 7.440223190573905e-13\n"
     ]
    }
   ],
   "source": [
    "eqv_tf1 = a/(time_steps*1000)\n",
    "eqv_tf2 = b/(time_steps*1000)\n",
    "eqv_tf3 = c/(time_steps*1000)\n",
    "print(eqv_tf1, eqv_tf2, eqv_tf3)\n",
    "out1 = open('final_7.txt', 'w')\n",
    "ss = '{}{:>.3e}{}{}{:>.3e}{}{}{:>.3e}{}'.format(' 50   ', eqv_tf1, '\\n','100   ', eqv_tf2, '\\n', '200   ', eqv_tf3, '\\n')\n",
    "out1.writelines(ss)\n",
    "out1.close()"
   ]
  },
  {
   "cell_type": "code",
   "execution_count": null,
   "id": "8b6ef0b3-1ea4-4447-9aa1-989c8ee66f4f",
   "metadata": {},
   "outputs": [],
   "source": []
  }
 ],
 "metadata": {
  "kernelspec": {
   "display_name": "Python 3 (ipykernel)",
   "language": "python",
   "name": "python3"
  },
  "language_info": {
   "codemirror_mode": {
    "name": "ipython",
    "version": 3
   },
   "file_extension": ".py",
   "mimetype": "text/x-python",
   "name": "python",
   "nbconvert_exporter": "python",
   "pygments_lexer": "ipython3",
   "version": "3.9.12"
  }
 },
 "nbformat": 4,
 "nbformat_minor": 5
}
